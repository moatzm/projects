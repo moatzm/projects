{
 "cells": [
  {
   "cell_type": "code",
   "execution_count": 2,
   "metadata": {
    "executionInfo": {
     "elapsed": 605,
     "status": "ok",
     "timestamp": 1726047496945,
     "user": {
      "displayName": "Ahmed Yousry",
      "userId": "15736517196575255940"
     },
     "user_tz": -180
    },
    "id": "ZKP1mFPfuqXb"
   },
   "outputs": [],
   "source": [
    "\n",
    "import numpy as np # linear algebra\n",
    "import pandas as pd # data processing, CSV file I/O (e.g. pd.read_csv)"
   ]
  },
  {
   "cell_type": "markdown",
   "metadata": {
    "id": "nBzwNLwyur8t"
   },
   "source": [
    "Explanation for the dataset:\n",
    "\n",
    "1. **mpg**: Fuel efficiency in miles per gallon.\n",
    "2. **cylinders**: Number of engine cylinders.\n",
    "3. **displacement**: Engine size, typically in cubic inches or liters.\n",
    "4. **horsepower**: Engine power output.\n",
    "5. **weight**: Car’s weight in pounds or kilograms.\n",
    "6. **acceleration**: Time to go from 0 to 60 mph.\n",
    "7. **model year**: Year the car model was released.\n",
    "8. **origin**: Country/region of manufacture.\n",
    "9. **car name**: Brand and model of the car."
   ]
  },
  {
   "cell_type": "markdown",
   "metadata": {
    "id": "AAeHLfRSuqXd"
   },
   "source": [
    "**IMPORTING LIBRARIES**\n"
   ]
  },
  {
   "cell_type": "code",
   "execution_count": 37,
   "metadata": {
    "colab": {
     "base_uri": "https://localhost:8080/"
    },
    "executionInfo": {
     "elapsed": 12894,
     "status": "ok",
     "timestamp": 1726047532370,
     "user": {
      "displayName": "Ahmed Yousry",
      "userId": "15736517196575255940"
     },
     "user_tz": -180
    },
    "id": "Mkqp9K8yuqXe",
    "outputId": "e35c2134-090b-4276-9d2e-d753e39826c8"
   },
   "outputs": [
    {
     "name": "stdout",
     "output_type": "stream",
     "text": [
      "Requirement already satisfied: tensorflow in c:\\users\\moatz\\anaconda3\\lib\\site-packages (2.18.0)\n",
      "Requirement already satisfied: tensorflow-intel==2.18.0 in c:\\users\\moatz\\anaconda3\\lib\\site-packages (from tensorflow) (2.18.0)\n",
      "Requirement already satisfied: absl-py>=1.0.0 in c:\\users\\moatz\\anaconda3\\lib\\site-packages (from tensorflow-intel==2.18.0->tensorflow) (2.1.0)\n",
      "Requirement already satisfied: astunparse>=1.6.0 in c:\\users\\moatz\\anaconda3\\lib\\site-packages (from tensorflow-intel==2.18.0->tensorflow) (1.6.3)\n",
      "Requirement already satisfied: flatbuffers>=24.3.25 in c:\\users\\moatz\\anaconda3\\lib\\site-packages (from tensorflow-intel==2.18.0->tensorflow) (24.12.23)\n",
      "Requirement already satisfied: gast!=0.5.0,!=0.5.1,!=0.5.2,>=0.2.1 in c:\\users\\moatz\\anaconda3\\lib\\site-packages (from tensorflow-intel==2.18.0->tensorflow) (0.6.0)\n",
      "Requirement already satisfied: google-pasta>=0.1.1 in c:\\users\\moatz\\anaconda3\\lib\\site-packages (from tensorflow-intel==2.18.0->tensorflow) (0.2.0)\n",
      "Requirement already satisfied: libclang>=13.0.0 in c:\\users\\moatz\\anaconda3\\lib\\site-packages (from tensorflow-intel==2.18.0->tensorflow) (18.1.1)\n",
      "Requirement already satisfied: opt-einsum>=2.3.2 in c:\\users\\moatz\\anaconda3\\lib\\site-packages (from tensorflow-intel==2.18.0->tensorflow) (3.4.0)\n",
      "Requirement already satisfied: packaging in c:\\users\\moatz\\anaconda3\\lib\\site-packages (from tensorflow-intel==2.18.0->tensorflow) (23.1)\n",
      "Requirement already satisfied: protobuf!=4.21.0,!=4.21.1,!=4.21.2,!=4.21.3,!=4.21.4,!=4.21.5,<6.0.0dev,>=3.20.3 in c:\\users\\moatz\\anaconda3\\lib\\site-packages (from tensorflow-intel==2.18.0->tensorflow) (4.25.4)\n",
      "Requirement already satisfied: requests<3,>=2.21.0 in c:\\users\\moatz\\anaconda3\\lib\\site-packages (from tensorflow-intel==2.18.0->tensorflow) (2.31.0)\n",
      "Requirement already satisfied: setuptools in c:\\users\\moatz\\anaconda3\\lib\\site-packages (from tensorflow-intel==2.18.0->tensorflow) (68.0.0)\n",
      "Requirement already satisfied: six>=1.12.0 in c:\\users\\moatz\\anaconda3\\lib\\site-packages (from tensorflow-intel==2.18.0->tensorflow) (1.16.0)\n",
      "Requirement already satisfied: termcolor>=1.1.0 in c:\\users\\moatz\\anaconda3\\lib\\site-packages (from tensorflow-intel==2.18.0->tensorflow) (2.5.0)\n",
      "Requirement already satisfied: typing-extensions>=3.6.6 in c:\\users\\moatz\\anaconda3\\lib\\site-packages (from tensorflow-intel==2.18.0->tensorflow) (4.12.2)\n",
      "Requirement already satisfied: wrapt>=1.11.0 in c:\\users\\moatz\\anaconda3\\lib\\site-packages (from tensorflow-intel==2.18.0->tensorflow) (1.14.1)\n",
      "Requirement already satisfied: grpcio<2.0,>=1.24.3 in c:\\users\\moatz\\anaconda3\\lib\\site-packages (from tensorflow-intel==2.18.0->tensorflow) (1.69.0)\n",
      "Requirement already satisfied: tensorboard<2.19,>=2.18 in c:\\users\\moatz\\anaconda3\\lib\\site-packages (from tensorflow-intel==2.18.0->tensorflow) (2.18.0)\n",
      "Requirement already satisfied: keras>=3.5.0 in c:\\users\\moatz\\anaconda3\\lib\\site-packages (from tensorflow-intel==2.18.0->tensorflow) (3.8.0)\n",
      "Requirement already satisfied: numpy<2.1.0,>=1.26.0 in c:\\users\\moatz\\anaconda3\\lib\\site-packages (from tensorflow-intel==2.18.0->tensorflow) (1.26.4)\n",
      "Requirement already satisfied: h5py>=3.11.0 in c:\\users\\moatz\\anaconda3\\lib\\site-packages (from tensorflow-intel==2.18.0->tensorflow) (3.12.1)\n",
      "Requirement already satisfied: ml-dtypes<0.5.0,>=0.4.0 in c:\\users\\moatz\\anaconda3\\lib\\site-packages (from tensorflow-intel==2.18.0->tensorflow) (0.4.1)\n",
      "Requirement already satisfied: tensorflow-io-gcs-filesystem>=0.23.1 in c:\\users\\moatz\\anaconda3\\lib\\site-packages (from tensorflow-intel==2.18.0->tensorflow) (0.31.0)\n",
      "Requirement already satisfied: wheel<1.0,>=0.23.0 in c:\\users\\moatz\\anaconda3\\lib\\site-packages (from astunparse>=1.6.0->tensorflow-intel==2.18.0->tensorflow) (0.38.4)\n",
      "Requirement already satisfied: rich in c:\\users\\moatz\\anaconda3\\lib\\site-packages (from keras>=3.5.0->tensorflow-intel==2.18.0->tensorflow) (13.9.2)\n",
      "Requirement already satisfied: namex in c:\\users\\moatz\\anaconda3\\lib\\site-packages (from keras>=3.5.0->tensorflow-intel==2.18.0->tensorflow) (0.0.8)\n",
      "Requirement already satisfied: optree in c:\\users\\moatz\\anaconda3\\lib\\site-packages (from keras>=3.5.0->tensorflow-intel==2.18.0->tensorflow) (0.13.1)\n",
      "Requirement already satisfied: charset-normalizer<4,>=2 in c:\\users\\moatz\\anaconda3\\lib\\site-packages (from requests<3,>=2.21.0->tensorflow-intel==2.18.0->tensorflow) (2.0.4)\n",
      "Requirement already satisfied: idna<4,>=2.5 in c:\\users\\moatz\\anaconda3\\lib\\site-packages (from requests<3,>=2.21.0->tensorflow-intel==2.18.0->tensorflow) (3.4)\n",
      "Requirement already satisfied: urllib3<3,>=1.21.1 in c:\\users\\moatz\\anaconda3\\lib\\site-packages (from requests<3,>=2.21.0->tensorflow-intel==2.18.0->tensorflow) (1.26.16)\n",
      "Requirement already satisfied: certifi>=2017.4.17 in c:\\users\\moatz\\anaconda3\\lib\\site-packages (from requests<3,>=2.21.0->tensorflow-intel==2.18.0->tensorflow) (2024.2.2)\n",
      "Requirement already satisfied: markdown>=2.6.8 in c:\\users\\moatz\\anaconda3\\lib\\site-packages (from tensorboard<2.19,>=2.18->tensorflow-intel==2.18.0->tensorflow) (3.4.1)\n",
      "Requirement already satisfied: tensorboard-data-server<0.8.0,>=0.7.0 in c:\\users\\moatz\\anaconda3\\lib\\site-packages (from tensorboard<2.19,>=2.18->tensorflow-intel==2.18.0->tensorflow) (0.7.2)\n",
      "Requirement already satisfied: werkzeug>=1.0.1 in c:\\users\\moatz\\anaconda3\\lib\\site-packages (from tensorboard<2.19,>=2.18->tensorflow-intel==2.18.0->tensorflow) (2.2.3)\n",
      "Requirement already satisfied: MarkupSafe>=2.1.1 in c:\\users\\moatz\\anaconda3\\lib\\site-packages (from werkzeug>=1.0.1->tensorboard<2.19,>=2.18->tensorflow-intel==2.18.0->tensorflow) (2.1.1)\n",
      "Requirement already satisfied: markdown-it-py>=2.2.0 in c:\\users\\moatz\\anaconda3\\lib\\site-packages (from rich->keras>=3.5.0->tensorflow-intel==2.18.0->tensorflow) (2.2.0)\n",
      "Requirement already satisfied: pygments<3.0.0,>=2.13.0 in c:\\users\\moatz\\anaconda3\\lib\\site-packages (from rich->keras>=3.5.0->tensorflow-intel==2.18.0->tensorflow) (2.15.1)\n",
      "Requirement already satisfied: mdurl~=0.1 in c:\\users\\moatz\\anaconda3\\lib\\site-packages (from markdown-it-py>=2.2.0->rich->keras>=3.5.0->tensorflow-intel==2.18.0->tensorflow) (0.1.0)\n"
     ]
    }
   ],
   "source": [
    "!pip install tensorflow\n",
    "import matplotlib.pyplot as plt\n",
    "import seaborn as sns\n",
    "import tensorflow as tf\n",
    "from tensorflow import keras\n",
    "from tensorflow.keras import layers\n",
    "from keras.models import Sequential\n",
    "from keras.layers import Dense"
   ]
  },
  {
   "cell_type": "markdown",
   "metadata": {
    "id": "WOXfG-8zuqXe"
   },
   "source": [
    "**LOAD DATASET**"
   ]
  },
  {
   "cell_type": "code",
   "execution_count": 71,
   "metadata": {
    "colab": {
     "base_uri": "https://localhost:8080/",
     "height": 423
    },
    "executionInfo": {
     "elapsed": 759,
     "status": "ok",
     "timestamp": 1726047533122,
     "user": {
      "displayName": "Ahmed Yousry",
      "userId": "15736517196575255940"
     },
     "user_tz": -180
    },
    "id": "etMsfdh3uqXf",
    "outputId": "caefe974-42df-4866-dd16-7283c2a4e21a"
   },
   "outputs": [
    {
     "data": {
      "text/html": [
       "<div>\n",
       "<style scoped>\n",
       "    .dataframe tbody tr th:only-of-type {\n",
       "        vertical-align: middle;\n",
       "    }\n",
       "\n",
       "    .dataframe tbody tr th {\n",
       "        vertical-align: top;\n",
       "    }\n",
       "\n",
       "    .dataframe thead th {\n",
       "        text-align: right;\n",
       "    }\n",
       "</style>\n",
       "<table border=\"1\" class=\"dataframe\">\n",
       "  <thead>\n",
       "    <tr style=\"text-align: right;\">\n",
       "      <th></th>\n",
       "      <th>mpg</th>\n",
       "      <th>cylinders</th>\n",
       "      <th>displacement</th>\n",
       "      <th>horsepower</th>\n",
       "      <th>weight</th>\n",
       "      <th>acceleration</th>\n",
       "      <th>model year</th>\n",
       "      <th>origin</th>\n",
       "      <th>car name</th>\n",
       "    </tr>\n",
       "  </thead>\n",
       "  <tbody>\n",
       "    <tr>\n",
       "      <th>0</th>\n",
       "      <td>18.0</td>\n",
       "      <td>8</td>\n",
       "      <td>307.0</td>\n",
       "      <td>130</td>\n",
       "      <td>3504</td>\n",
       "      <td>12.0</td>\n",
       "      <td>70</td>\n",
       "      <td>1</td>\n",
       "      <td>chevrolet chevelle malibu</td>\n",
       "    </tr>\n",
       "    <tr>\n",
       "      <th>1</th>\n",
       "      <td>15.0</td>\n",
       "      <td>8</td>\n",
       "      <td>350.0</td>\n",
       "      <td>165</td>\n",
       "      <td>3693</td>\n",
       "      <td>11.5</td>\n",
       "      <td>70</td>\n",
       "      <td>1</td>\n",
       "      <td>buick skylark 320</td>\n",
       "    </tr>\n",
       "    <tr>\n",
       "      <th>2</th>\n",
       "      <td>18.0</td>\n",
       "      <td>8</td>\n",
       "      <td>318.0</td>\n",
       "      <td>150</td>\n",
       "      <td>3436</td>\n",
       "      <td>11.0</td>\n",
       "      <td>70</td>\n",
       "      <td>1</td>\n",
       "      <td>plymouth satellite</td>\n",
       "    </tr>\n",
       "    <tr>\n",
       "      <th>3</th>\n",
       "      <td>16.0</td>\n",
       "      <td>8</td>\n",
       "      <td>304.0</td>\n",
       "      <td>150</td>\n",
       "      <td>3433</td>\n",
       "      <td>12.0</td>\n",
       "      <td>70</td>\n",
       "      <td>1</td>\n",
       "      <td>amc rebel sst</td>\n",
       "    </tr>\n",
       "    <tr>\n",
       "      <th>4</th>\n",
       "      <td>17.0</td>\n",
       "      <td>8</td>\n",
       "      <td>302.0</td>\n",
       "      <td>140</td>\n",
       "      <td>3449</td>\n",
       "      <td>10.5</td>\n",
       "      <td>70</td>\n",
       "      <td>1</td>\n",
       "      <td>ford torino</td>\n",
       "    </tr>\n",
       "    <tr>\n",
       "      <th>...</th>\n",
       "      <td>...</td>\n",
       "      <td>...</td>\n",
       "      <td>...</td>\n",
       "      <td>...</td>\n",
       "      <td>...</td>\n",
       "      <td>...</td>\n",
       "      <td>...</td>\n",
       "      <td>...</td>\n",
       "      <td>...</td>\n",
       "    </tr>\n",
       "    <tr>\n",
       "      <th>393</th>\n",
       "      <td>27.0</td>\n",
       "      <td>4</td>\n",
       "      <td>140.0</td>\n",
       "      <td>86</td>\n",
       "      <td>2790</td>\n",
       "      <td>15.6</td>\n",
       "      <td>82</td>\n",
       "      <td>1</td>\n",
       "      <td>ford mustang gl</td>\n",
       "    </tr>\n",
       "    <tr>\n",
       "      <th>394</th>\n",
       "      <td>44.0</td>\n",
       "      <td>4</td>\n",
       "      <td>97.0</td>\n",
       "      <td>52</td>\n",
       "      <td>2130</td>\n",
       "      <td>24.6</td>\n",
       "      <td>82</td>\n",
       "      <td>2</td>\n",
       "      <td>vw pickup</td>\n",
       "    </tr>\n",
       "    <tr>\n",
       "      <th>395</th>\n",
       "      <td>32.0</td>\n",
       "      <td>4</td>\n",
       "      <td>135.0</td>\n",
       "      <td>84</td>\n",
       "      <td>2295</td>\n",
       "      <td>11.6</td>\n",
       "      <td>82</td>\n",
       "      <td>1</td>\n",
       "      <td>dodge rampage</td>\n",
       "    </tr>\n",
       "    <tr>\n",
       "      <th>396</th>\n",
       "      <td>28.0</td>\n",
       "      <td>4</td>\n",
       "      <td>120.0</td>\n",
       "      <td>79</td>\n",
       "      <td>2625</td>\n",
       "      <td>18.6</td>\n",
       "      <td>82</td>\n",
       "      <td>1</td>\n",
       "      <td>ford ranger</td>\n",
       "    </tr>\n",
       "    <tr>\n",
       "      <th>397</th>\n",
       "      <td>31.0</td>\n",
       "      <td>4</td>\n",
       "      <td>119.0</td>\n",
       "      <td>82</td>\n",
       "      <td>2720</td>\n",
       "      <td>19.4</td>\n",
       "      <td>82</td>\n",
       "      <td>1</td>\n",
       "      <td>chevy s-10</td>\n",
       "    </tr>\n",
       "  </tbody>\n",
       "</table>\n",
       "<p>398 rows × 9 columns</p>\n",
       "</div>"
      ],
      "text/plain": [
       "      mpg  cylinders  displacement horsepower  weight  acceleration  \\\n",
       "0    18.0          8         307.0        130    3504          12.0   \n",
       "1    15.0          8         350.0        165    3693          11.5   \n",
       "2    18.0          8         318.0        150    3436          11.0   \n",
       "3    16.0          8         304.0        150    3433          12.0   \n",
       "4    17.0          8         302.0        140    3449          10.5   \n",
       "..    ...        ...           ...        ...     ...           ...   \n",
       "393  27.0          4         140.0         86    2790          15.6   \n",
       "394  44.0          4          97.0         52    2130          24.6   \n",
       "395  32.0          4         135.0         84    2295          11.6   \n",
       "396  28.0          4         120.0         79    2625          18.6   \n",
       "397  31.0          4         119.0         82    2720          19.4   \n",
       "\n",
       "     model year  origin                   car name  \n",
       "0            70       1  chevrolet chevelle malibu  \n",
       "1            70       1          buick skylark 320  \n",
       "2            70       1         plymouth satellite  \n",
       "3            70       1              amc rebel sst  \n",
       "4            70       1                ford torino  \n",
       "..          ...     ...                        ...  \n",
       "393          82       1            ford mustang gl  \n",
       "394          82       2                  vw pickup  \n",
       "395          82       1              dodge rampage  \n",
       "396          82       1                ford ranger  \n",
       "397          82       1                 chevy s-10  \n",
       "\n",
       "[398 rows x 9 columns]"
      ]
     },
     "execution_count": 71,
     "metadata": {},
     "output_type": "execute_result"
    }
   ],
   "source": [
    "data=pd.read_csv(r\"C:\\Users\\moatz\\Desktop\\New folder (3)\\Machine learning 2024\\Notebooks - ANN - DNN\\3.Regression using ANN\\auto-mpg.csv\")\n",
    "data"
   ]
  },
  {
   "cell_type": "code",
   "execution_count": 72,
   "metadata": {
    "colab": {
     "base_uri": "https://localhost:8080/",
     "height": 423
    },
    "executionInfo": {
     "elapsed": 14,
     "status": "ok",
     "timestamp": 1726047533122,
     "user": {
      "displayName": "Ahmed Yousry",
      "userId": "15736517196575255940"
     },
     "user_tz": -180
    },
    "id": "N2AiN0RtuqXf",
    "outputId": "fac528ce-e152-4961-86f7-36098b4ad5c3"
   },
   "outputs": [
    {
     "data": {
      "text/html": [
       "<div>\n",
       "<style scoped>\n",
       "    .dataframe tbody tr th:only-of-type {\n",
       "        vertical-align: middle;\n",
       "    }\n",
       "\n",
       "    .dataframe tbody tr th {\n",
       "        vertical-align: top;\n",
       "    }\n",
       "\n",
       "    .dataframe thead th {\n",
       "        text-align: right;\n",
       "    }\n",
       "</style>\n",
       "<table border=\"1\" class=\"dataframe\">\n",
       "  <thead>\n",
       "    <tr style=\"text-align: right;\">\n",
       "      <th></th>\n",
       "      <th>mpg</th>\n",
       "      <th>cylinders</th>\n",
       "      <th>displacement</th>\n",
       "      <th>horsepower</th>\n",
       "      <th>weight</th>\n",
       "      <th>acceleration</th>\n",
       "      <th>model year</th>\n",
       "      <th>origin</th>\n",
       "    </tr>\n",
       "  </thead>\n",
       "  <tbody>\n",
       "    <tr>\n",
       "      <th>0</th>\n",
       "      <td>18.0</td>\n",
       "      <td>8</td>\n",
       "      <td>307.0</td>\n",
       "      <td>130</td>\n",
       "      <td>3504</td>\n",
       "      <td>12.0</td>\n",
       "      <td>70</td>\n",
       "      <td>1</td>\n",
       "    </tr>\n",
       "    <tr>\n",
       "      <th>1</th>\n",
       "      <td>15.0</td>\n",
       "      <td>8</td>\n",
       "      <td>350.0</td>\n",
       "      <td>165</td>\n",
       "      <td>3693</td>\n",
       "      <td>11.5</td>\n",
       "      <td>70</td>\n",
       "      <td>1</td>\n",
       "    </tr>\n",
       "    <tr>\n",
       "      <th>2</th>\n",
       "      <td>18.0</td>\n",
       "      <td>8</td>\n",
       "      <td>318.0</td>\n",
       "      <td>150</td>\n",
       "      <td>3436</td>\n",
       "      <td>11.0</td>\n",
       "      <td>70</td>\n",
       "      <td>1</td>\n",
       "    </tr>\n",
       "    <tr>\n",
       "      <th>3</th>\n",
       "      <td>16.0</td>\n",
       "      <td>8</td>\n",
       "      <td>304.0</td>\n",
       "      <td>150</td>\n",
       "      <td>3433</td>\n",
       "      <td>12.0</td>\n",
       "      <td>70</td>\n",
       "      <td>1</td>\n",
       "    </tr>\n",
       "    <tr>\n",
       "      <th>4</th>\n",
       "      <td>17.0</td>\n",
       "      <td>8</td>\n",
       "      <td>302.0</td>\n",
       "      <td>140</td>\n",
       "      <td>3449</td>\n",
       "      <td>10.5</td>\n",
       "      <td>70</td>\n",
       "      <td>1</td>\n",
       "    </tr>\n",
       "    <tr>\n",
       "      <th>...</th>\n",
       "      <td>...</td>\n",
       "      <td>...</td>\n",
       "      <td>...</td>\n",
       "      <td>...</td>\n",
       "      <td>...</td>\n",
       "      <td>...</td>\n",
       "      <td>...</td>\n",
       "      <td>...</td>\n",
       "    </tr>\n",
       "    <tr>\n",
       "      <th>393</th>\n",
       "      <td>27.0</td>\n",
       "      <td>4</td>\n",
       "      <td>140.0</td>\n",
       "      <td>86</td>\n",
       "      <td>2790</td>\n",
       "      <td>15.6</td>\n",
       "      <td>82</td>\n",
       "      <td>1</td>\n",
       "    </tr>\n",
       "    <tr>\n",
       "      <th>394</th>\n",
       "      <td>44.0</td>\n",
       "      <td>4</td>\n",
       "      <td>97.0</td>\n",
       "      <td>52</td>\n",
       "      <td>2130</td>\n",
       "      <td>24.6</td>\n",
       "      <td>82</td>\n",
       "      <td>2</td>\n",
       "    </tr>\n",
       "    <tr>\n",
       "      <th>395</th>\n",
       "      <td>32.0</td>\n",
       "      <td>4</td>\n",
       "      <td>135.0</td>\n",
       "      <td>84</td>\n",
       "      <td>2295</td>\n",
       "      <td>11.6</td>\n",
       "      <td>82</td>\n",
       "      <td>1</td>\n",
       "    </tr>\n",
       "    <tr>\n",
       "      <th>396</th>\n",
       "      <td>28.0</td>\n",
       "      <td>4</td>\n",
       "      <td>120.0</td>\n",
       "      <td>79</td>\n",
       "      <td>2625</td>\n",
       "      <td>18.6</td>\n",
       "      <td>82</td>\n",
       "      <td>1</td>\n",
       "    </tr>\n",
       "    <tr>\n",
       "      <th>397</th>\n",
       "      <td>31.0</td>\n",
       "      <td>4</td>\n",
       "      <td>119.0</td>\n",
       "      <td>82</td>\n",
       "      <td>2720</td>\n",
       "      <td>19.4</td>\n",
       "      <td>82</td>\n",
       "      <td>1</td>\n",
       "    </tr>\n",
       "  </tbody>\n",
       "</table>\n",
       "<p>398 rows × 8 columns</p>\n",
       "</div>"
      ],
      "text/plain": [
       "      mpg  cylinders  displacement horsepower  weight  acceleration  \\\n",
       "0    18.0          8         307.0        130    3504          12.0   \n",
       "1    15.0          8         350.0        165    3693          11.5   \n",
       "2    18.0          8         318.0        150    3436          11.0   \n",
       "3    16.0          8         304.0        150    3433          12.0   \n",
       "4    17.0          8         302.0        140    3449          10.5   \n",
       "..    ...        ...           ...        ...     ...           ...   \n",
       "393  27.0          4         140.0         86    2790          15.6   \n",
       "394  44.0          4          97.0         52    2130          24.6   \n",
       "395  32.0          4         135.0         84    2295          11.6   \n",
       "396  28.0          4         120.0         79    2625          18.6   \n",
       "397  31.0          4         119.0         82    2720          19.4   \n",
       "\n",
       "     model year  origin  \n",
       "0            70       1  \n",
       "1            70       1  \n",
       "2            70       1  \n",
       "3            70       1  \n",
       "4            70       1  \n",
       "..          ...     ...  \n",
       "393          82       1  \n",
       "394          82       2  \n",
       "395          82       1  \n",
       "396          82       1  \n",
       "397          82       1  \n",
       "\n",
       "[398 rows x 8 columns]"
      ]
     },
     "execution_count": 72,
     "metadata": {},
     "output_type": "execute_result"
    }
   ],
   "source": [
    "data=data.drop(columns=['car name'])\n",
    "data"
   ]
  },
  {
   "cell_type": "markdown",
   "metadata": {
    "id": "Y5Oa7g4GuqXf"
   },
   "source": [
    "Here we convert the origin country which is a categorical column to numerical taking UK=1, EUROPE=2 and USA=3."
   ]
  },
  {
   "cell_type": "code",
   "execution_count": 73,
   "metadata": {
    "colab": {
     "base_uri": "https://localhost:8080/",
     "height": 423
    },
    "executionInfo": {
     "elapsed": 13,
     "status": "ok",
     "timestamp": 1726047533123,
     "user": {
      "displayName": "Ahmed Yousry",
      "userId": "15736517196575255940"
     },
     "user_tz": -180
    },
    "id": "NHWFHACMuqXf",
    "outputId": "1cf25d66-e307-47a4-eae3-f6f1961c7bb7"
   },
   "outputs": [
    {
     "data": {
      "text/html": [
       "<div>\n",
       "<style scoped>\n",
       "    .dataframe tbody tr th:only-of-type {\n",
       "        vertical-align: middle;\n",
       "    }\n",
       "\n",
       "    .dataframe tbody tr th {\n",
       "        vertical-align: top;\n",
       "    }\n",
       "\n",
       "    .dataframe thead th {\n",
       "        text-align: right;\n",
       "    }\n",
       "</style>\n",
       "<table border=\"1\" class=\"dataframe\">\n",
       "  <thead>\n",
       "    <tr style=\"text-align: right;\">\n",
       "      <th></th>\n",
       "      <th>mpg</th>\n",
       "      <th>cylinders</th>\n",
       "      <th>displacement</th>\n",
       "      <th>horsepower</th>\n",
       "      <th>weight</th>\n",
       "      <th>acceleration</th>\n",
       "      <th>model year</th>\n",
       "      <th>uk</th>\n",
       "      <th>europe</th>\n",
       "      <th>usa</th>\n",
       "    </tr>\n",
       "  </thead>\n",
       "  <tbody>\n",
       "    <tr>\n",
       "      <th>0</th>\n",
       "      <td>18.0</td>\n",
       "      <td>8</td>\n",
       "      <td>307.0</td>\n",
       "      <td>130</td>\n",
       "      <td>3504</td>\n",
       "      <td>12.0</td>\n",
       "      <td>70</td>\n",
       "      <td>1</td>\n",
       "      <td>0</td>\n",
       "      <td>0</td>\n",
       "    </tr>\n",
       "    <tr>\n",
       "      <th>1</th>\n",
       "      <td>15.0</td>\n",
       "      <td>8</td>\n",
       "      <td>350.0</td>\n",
       "      <td>165</td>\n",
       "      <td>3693</td>\n",
       "      <td>11.5</td>\n",
       "      <td>70</td>\n",
       "      <td>1</td>\n",
       "      <td>0</td>\n",
       "      <td>0</td>\n",
       "    </tr>\n",
       "    <tr>\n",
       "      <th>2</th>\n",
       "      <td>18.0</td>\n",
       "      <td>8</td>\n",
       "      <td>318.0</td>\n",
       "      <td>150</td>\n",
       "      <td>3436</td>\n",
       "      <td>11.0</td>\n",
       "      <td>70</td>\n",
       "      <td>1</td>\n",
       "      <td>0</td>\n",
       "      <td>0</td>\n",
       "    </tr>\n",
       "    <tr>\n",
       "      <th>3</th>\n",
       "      <td>16.0</td>\n",
       "      <td>8</td>\n",
       "      <td>304.0</td>\n",
       "      <td>150</td>\n",
       "      <td>3433</td>\n",
       "      <td>12.0</td>\n",
       "      <td>70</td>\n",
       "      <td>1</td>\n",
       "      <td>0</td>\n",
       "      <td>0</td>\n",
       "    </tr>\n",
       "    <tr>\n",
       "      <th>4</th>\n",
       "      <td>17.0</td>\n",
       "      <td>8</td>\n",
       "      <td>302.0</td>\n",
       "      <td>140</td>\n",
       "      <td>3449</td>\n",
       "      <td>10.5</td>\n",
       "      <td>70</td>\n",
       "      <td>1</td>\n",
       "      <td>0</td>\n",
       "      <td>0</td>\n",
       "    </tr>\n",
       "    <tr>\n",
       "      <th>...</th>\n",
       "      <td>...</td>\n",
       "      <td>...</td>\n",
       "      <td>...</td>\n",
       "      <td>...</td>\n",
       "      <td>...</td>\n",
       "      <td>...</td>\n",
       "      <td>...</td>\n",
       "      <td>...</td>\n",
       "      <td>...</td>\n",
       "      <td>...</td>\n",
       "    </tr>\n",
       "    <tr>\n",
       "      <th>393</th>\n",
       "      <td>27.0</td>\n",
       "      <td>4</td>\n",
       "      <td>140.0</td>\n",
       "      <td>86</td>\n",
       "      <td>2790</td>\n",
       "      <td>15.6</td>\n",
       "      <td>82</td>\n",
       "      <td>1</td>\n",
       "      <td>0</td>\n",
       "      <td>0</td>\n",
       "    </tr>\n",
       "    <tr>\n",
       "      <th>394</th>\n",
       "      <td>44.0</td>\n",
       "      <td>4</td>\n",
       "      <td>97.0</td>\n",
       "      <td>52</td>\n",
       "      <td>2130</td>\n",
       "      <td>24.6</td>\n",
       "      <td>82</td>\n",
       "      <td>0</td>\n",
       "      <td>2</td>\n",
       "      <td>0</td>\n",
       "    </tr>\n",
       "    <tr>\n",
       "      <th>395</th>\n",
       "      <td>32.0</td>\n",
       "      <td>4</td>\n",
       "      <td>135.0</td>\n",
       "      <td>84</td>\n",
       "      <td>2295</td>\n",
       "      <td>11.6</td>\n",
       "      <td>82</td>\n",
       "      <td>1</td>\n",
       "      <td>0</td>\n",
       "      <td>0</td>\n",
       "    </tr>\n",
       "    <tr>\n",
       "      <th>396</th>\n",
       "      <td>28.0</td>\n",
       "      <td>4</td>\n",
       "      <td>120.0</td>\n",
       "      <td>79</td>\n",
       "      <td>2625</td>\n",
       "      <td>18.6</td>\n",
       "      <td>82</td>\n",
       "      <td>1</td>\n",
       "      <td>0</td>\n",
       "      <td>0</td>\n",
       "    </tr>\n",
       "    <tr>\n",
       "      <th>397</th>\n",
       "      <td>31.0</td>\n",
       "      <td>4</td>\n",
       "      <td>119.0</td>\n",
       "      <td>82</td>\n",
       "      <td>2720</td>\n",
       "      <td>19.4</td>\n",
       "      <td>82</td>\n",
       "      <td>1</td>\n",
       "      <td>0</td>\n",
       "      <td>0</td>\n",
       "    </tr>\n",
       "  </tbody>\n",
       "</table>\n",
       "<p>398 rows × 10 columns</p>\n",
       "</div>"
      ],
      "text/plain": [
       "      mpg  cylinders  displacement horsepower  weight  acceleration  \\\n",
       "0    18.0          8         307.0        130    3504          12.0   \n",
       "1    15.0          8         350.0        165    3693          11.5   \n",
       "2    18.0          8         318.0        150    3436          11.0   \n",
       "3    16.0          8         304.0        150    3433          12.0   \n",
       "4    17.0          8         302.0        140    3449          10.5   \n",
       "..    ...        ...           ...        ...     ...           ...   \n",
       "393  27.0          4         140.0         86    2790          15.6   \n",
       "394  44.0          4          97.0         52    2130          24.6   \n",
       "395  32.0          4         135.0         84    2295          11.6   \n",
       "396  28.0          4         120.0         79    2625          18.6   \n",
       "397  31.0          4         119.0         82    2720          19.4   \n",
       "\n",
       "     model year  uk  europe  usa  \n",
       "0            70   1       0    0  \n",
       "1            70   1       0    0  \n",
       "2            70   1       0    0  \n",
       "3            70   1       0    0  \n",
       "4            70   1       0    0  \n",
       "..          ...  ..     ...  ...  \n",
       "393          82   1       0    0  \n",
       "394          82   0       2    0  \n",
       "395          82   1       0    0  \n",
       "396          82   1       0    0  \n",
       "397          82   1       0    0  \n",
       "\n",
       "[398 rows x 10 columns]"
      ]
     },
     "execution_count": 73,
     "metadata": {},
     "output_type": "execute_result"
    }
   ],
   "source": [
    "origin=data.pop('origin')\n",
    "data['uk']=(origin==1)*1\n",
    "data['europe']=(origin==2)*2\n",
    "data['usa']=(origin==3)*3\n",
    "data"
   ]
  },
  {
   "cell_type": "code",
   "execution_count": 74,
   "metadata": {
    "colab": {
     "base_uri": "https://localhost:8080/"
    },
    "executionInfo": {
     "elapsed": 12,
     "status": "ok",
     "timestamp": 1726047533123,
     "user": {
      "displayName": "Ahmed Yousry",
      "userId": "15736517196575255940"
     },
     "user_tz": -180
    },
    "id": "7SBCO8vS1OcU",
    "outputId": "55bd6ed3-7f07-4368-944e-af4240d0961e"
   },
   "outputs": [
    {
     "data": {
      "text/plain": [
       "(398, 10)"
      ]
     },
     "execution_count": 74,
     "metadata": {},
     "output_type": "execute_result"
    }
   ],
   "source": [
    "data.shape"
   ]
  },
  {
   "cell_type": "code",
   "execution_count": 75,
   "metadata": {
    "colab": {
     "base_uri": "https://localhost:8080/"
    },
    "executionInfo": {
     "elapsed": 409,
     "status": "ok",
     "timestamp": 1726047534985,
     "user": {
      "displayName": "Ahmed Yousry",
      "userId": "15736517196575255940"
     },
     "user_tz": -180
    },
    "id": "vZzKBCGacvJx",
    "outputId": "8c4c70dd-7d5a-467b-d458-b1c130ec54a3"
   },
   "outputs": [
    {
     "name": "stdout",
     "output_type": "stream",
     "text": [
      "<class 'pandas.core.frame.DataFrame'>\n",
      "RangeIndex: 398 entries, 0 to 397\n",
      "Data columns (total 10 columns):\n",
      " #   Column        Non-Null Count  Dtype  \n",
      "---  ------        --------------  -----  \n",
      " 0   mpg           398 non-null    float64\n",
      " 1   cylinders     398 non-null    int64  \n",
      " 2   displacement  398 non-null    float64\n",
      " 3   horsepower    398 non-null    object \n",
      " 4   weight        398 non-null    int64  \n",
      " 5   acceleration  398 non-null    float64\n",
      " 6   model year    398 non-null    int64  \n",
      " 7   uk            398 non-null    int32  \n",
      " 8   europe        398 non-null    int32  \n",
      " 9   usa           398 non-null    int32  \n",
      "dtypes: float64(3), int32(3), int64(3), object(1)\n",
      "memory usage: 26.6+ KB\n"
     ]
    }
   ],
   "source": [
    "data.info()"
   ]
  },
  {
   "cell_type": "code",
   "execution_count": 76,
   "metadata": {
    "colab": {
     "base_uri": "https://localhost:8080/"
    },
    "executionInfo": {
     "elapsed": 342,
     "status": "ok",
     "timestamp": 1726047606012,
     "user": {
      "displayName": "Ahmed Yousry",
      "userId": "15736517196575255940"
     },
     "user_tz": -180
    },
    "id": "wTjMhuUbKDPo",
    "outputId": "44242bc0-69d3-455e-ebc8-1bf3cba2b291"
   },
   "outputs": [
    {
     "data": {
      "text/plain": [
       "array(['130', '165', '150', '140', '198', '220', '215', '225', '190',\n",
       "       '170', '160', '95', '97', '85', '88', '46', '87', '90', '113',\n",
       "       '200', '210', '193', '?', '100', '105', '175', '153', '180', '110',\n",
       "       '72', '86', '70', '76', '65', '69', '60', '80', '54', '208', '155',\n",
       "       '112', '92', '145', '137', '158', '167', '94', '107', '230', '49',\n",
       "       '75', '91', '122', '67', '83', '78', '52', '61', '93', '148',\n",
       "       '129', '96', '71', '98', '115', '53', '81', '79', '120', '152',\n",
       "       '102', '108', '68', '58', '149', '89', '63', '48', '66', '139',\n",
       "       '103', '125', '133', '138', '135', '142', '77', '62', '132', '84',\n",
       "       '64', '74', '116', '82'], dtype=object)"
      ]
     },
     "execution_count": 76,
     "metadata": {},
     "output_type": "execute_result"
    }
   ],
   "source": [
    "data['horsepower'].unique()"
   ]
  },
  {
   "cell_type": "code",
   "execution_count": 77,
   "metadata": {
    "executionInfo": {
     "elapsed": 357,
     "status": "ok",
     "timestamp": 1726047608962,
     "user": {
      "displayName": "Ahmed Yousry",
      "userId": "15736517196575255940"
     },
     "user_tz": -180
    },
    "id": "AVoddemhJ_6e"
   },
   "outputs": [],
   "source": [
    "data['horsepower']=data['horsepower'].replace('?',0)\n",
    "data['horsepower'] = data['horsepower'].astype('int')"
   ]
  },
  {
   "cell_type": "code",
   "execution_count": 78,
   "metadata": {
    "colab": {
     "base_uri": "https://localhost:8080/"
    },
    "executionInfo": {
     "elapsed": 309,
     "status": "ok",
     "timestamp": 1726047616992,
     "user": {
      "displayName": "Ahmed Yousry",
      "userId": "15736517196575255940"
     },
     "user_tz": -180
    },
    "id": "M5HYcGW5dGSU",
    "outputId": "b5b9ef87-28e4-46e6-def1-db8bbd861543"
   },
   "outputs": [
    {
     "name": "stdout",
     "output_type": "stream",
     "text": [
      "<class 'pandas.core.frame.DataFrame'>\n",
      "RangeIndex: 398 entries, 0 to 397\n",
      "Data columns (total 10 columns):\n",
      " #   Column        Non-Null Count  Dtype  \n",
      "---  ------        --------------  -----  \n",
      " 0   mpg           398 non-null    float64\n",
      " 1   cylinders     398 non-null    int64  \n",
      " 2   displacement  398 non-null    float64\n",
      " 3   horsepower    398 non-null    int32  \n",
      " 4   weight        398 non-null    int64  \n",
      " 5   acceleration  398 non-null    float64\n",
      " 6   model year    398 non-null    int64  \n",
      " 7   uk            398 non-null    int32  \n",
      " 8   europe        398 non-null    int32  \n",
      " 9   usa           398 non-null    int32  \n",
      "dtypes: float64(3), int32(4), int64(3)\n",
      "memory usage: 25.0 KB\n"
     ]
    }
   ],
   "source": [
    "data.info()"
   ]
  },
  {
   "cell_type": "markdown",
   "metadata": {
    "id": "wz4jnDKEuqXg"
   },
   "source": [
    "Splitted the complete dataset into train and test data in the fraction of 80:20"
   ]
  },
  {
   "cell_type": "markdown",
   "metadata": {
    "id": "eIZWaGPauqXg"
   },
   "source": [
    "Basic Statistics of the train dataset"
   ]
  },
  {
   "cell_type": "code",
   "execution_count": 79,
   "metadata": {
    "colab": {
     "base_uri": "https://localhost:8080/",
     "height": 363
    },
    "executionInfo": {
     "elapsed": 370,
     "status": "ok",
     "timestamp": 1726047665844,
     "user": {
      "displayName": "Ahmed Yousry",
      "userId": "15736517196575255940"
     },
     "user_tz": -180
    },
    "id": "nzM3OmI1uqXg",
    "outputId": "db0af713-b898-4280-c35d-0aa76df4da6f"
   },
   "outputs": [
    {
     "data": {
      "text/html": [
       "<div>\n",
       "<style scoped>\n",
       "    .dataframe tbody tr th:only-of-type {\n",
       "        vertical-align: middle;\n",
       "    }\n",
       "\n",
       "    .dataframe tbody tr th {\n",
       "        vertical-align: top;\n",
       "    }\n",
       "\n",
       "    .dataframe thead th {\n",
       "        text-align: right;\n",
       "    }\n",
       "</style>\n",
       "<table border=\"1\" class=\"dataframe\">\n",
       "  <thead>\n",
       "    <tr style=\"text-align: right;\">\n",
       "      <th></th>\n",
       "      <th>count</th>\n",
       "      <th>mean</th>\n",
       "      <th>std</th>\n",
       "      <th>min</th>\n",
       "      <th>25%</th>\n",
       "      <th>50%</th>\n",
       "      <th>75%</th>\n",
       "      <th>max</th>\n",
       "    </tr>\n",
       "  </thead>\n",
       "  <tbody>\n",
       "    <tr>\n",
       "      <th>mpg</th>\n",
       "      <td>398.0</td>\n",
       "      <td>23.514573</td>\n",
       "      <td>7.815984</td>\n",
       "      <td>9.0</td>\n",
       "      <td>17.500</td>\n",
       "      <td>23.0</td>\n",
       "      <td>29.000</td>\n",
       "      <td>46.6</td>\n",
       "    </tr>\n",
       "    <tr>\n",
       "      <th>cylinders</th>\n",
       "      <td>398.0</td>\n",
       "      <td>5.454774</td>\n",
       "      <td>1.701004</td>\n",
       "      <td>3.0</td>\n",
       "      <td>4.000</td>\n",
       "      <td>4.0</td>\n",
       "      <td>8.000</td>\n",
       "      <td>8.0</td>\n",
       "    </tr>\n",
       "    <tr>\n",
       "      <th>displacement</th>\n",
       "      <td>398.0</td>\n",
       "      <td>193.425879</td>\n",
       "      <td>104.269838</td>\n",
       "      <td>68.0</td>\n",
       "      <td>104.250</td>\n",
       "      <td>148.5</td>\n",
       "      <td>262.000</td>\n",
       "      <td>455.0</td>\n",
       "    </tr>\n",
       "    <tr>\n",
       "      <th>horsepower</th>\n",
       "      <td>398.0</td>\n",
       "      <td>102.894472</td>\n",
       "      <td>40.269544</td>\n",
       "      <td>0.0</td>\n",
       "      <td>75.000</td>\n",
       "      <td>92.0</td>\n",
       "      <td>125.000</td>\n",
       "      <td>230.0</td>\n",
       "    </tr>\n",
       "    <tr>\n",
       "      <th>weight</th>\n",
       "      <td>398.0</td>\n",
       "      <td>2970.424623</td>\n",
       "      <td>846.841774</td>\n",
       "      <td>1613.0</td>\n",
       "      <td>2223.750</td>\n",
       "      <td>2803.5</td>\n",
       "      <td>3608.000</td>\n",
       "      <td>5140.0</td>\n",
       "    </tr>\n",
       "    <tr>\n",
       "      <th>acceleration</th>\n",
       "      <td>398.0</td>\n",
       "      <td>15.568090</td>\n",
       "      <td>2.757689</td>\n",
       "      <td>8.0</td>\n",
       "      <td>13.825</td>\n",
       "      <td>15.5</td>\n",
       "      <td>17.175</td>\n",
       "      <td>24.8</td>\n",
       "    </tr>\n",
       "    <tr>\n",
       "      <th>model year</th>\n",
       "      <td>398.0</td>\n",
       "      <td>76.010050</td>\n",
       "      <td>3.697627</td>\n",
       "      <td>70.0</td>\n",
       "      <td>73.000</td>\n",
       "      <td>76.0</td>\n",
       "      <td>79.000</td>\n",
       "      <td>82.0</td>\n",
       "    </tr>\n",
       "    <tr>\n",
       "      <th>uk</th>\n",
       "      <td>398.0</td>\n",
       "      <td>0.625628</td>\n",
       "      <td>0.484569</td>\n",
       "      <td>0.0</td>\n",
       "      <td>0.000</td>\n",
       "      <td>1.0</td>\n",
       "      <td>1.000</td>\n",
       "      <td>1.0</td>\n",
       "    </tr>\n",
       "    <tr>\n",
       "      <th>europe</th>\n",
       "      <td>398.0</td>\n",
       "      <td>0.351759</td>\n",
       "      <td>0.762393</td>\n",
       "      <td>0.0</td>\n",
       "      <td>0.000</td>\n",
       "      <td>0.0</td>\n",
       "      <td>0.000</td>\n",
       "      <td>2.0</td>\n",
       "    </tr>\n",
       "    <tr>\n",
       "      <th>usa</th>\n",
       "      <td>398.0</td>\n",
       "      <td>0.595477</td>\n",
       "      <td>1.198101</td>\n",
       "      <td>0.0</td>\n",
       "      <td>0.000</td>\n",
       "      <td>0.0</td>\n",
       "      <td>0.000</td>\n",
       "      <td>3.0</td>\n",
       "    </tr>\n",
       "  </tbody>\n",
       "</table>\n",
       "</div>"
      ],
      "text/plain": [
       "              count         mean         std     min       25%     50%  \\\n",
       "mpg           398.0    23.514573    7.815984     9.0    17.500    23.0   \n",
       "cylinders     398.0     5.454774    1.701004     3.0     4.000     4.0   \n",
       "displacement  398.0   193.425879  104.269838    68.0   104.250   148.5   \n",
       "horsepower    398.0   102.894472   40.269544     0.0    75.000    92.0   \n",
       "weight        398.0  2970.424623  846.841774  1613.0  2223.750  2803.5   \n",
       "acceleration  398.0    15.568090    2.757689     8.0    13.825    15.5   \n",
       "model year    398.0    76.010050    3.697627    70.0    73.000    76.0   \n",
       "uk            398.0     0.625628    0.484569     0.0     0.000     1.0   \n",
       "europe        398.0     0.351759    0.762393     0.0     0.000     0.0   \n",
       "usa           398.0     0.595477    1.198101     0.0     0.000     0.0   \n",
       "\n",
       "                   75%     max  \n",
       "mpg             29.000    46.6  \n",
       "cylinders        8.000     8.0  \n",
       "displacement   262.000   455.0  \n",
       "horsepower     125.000   230.0  \n",
       "weight        3608.000  5140.0  \n",
       "acceleration    17.175    24.8  \n",
       "model year      79.000    82.0  \n",
       "uk               1.000     1.0  \n",
       "europe           0.000     2.0  \n",
       "usa              0.000     3.0  "
      ]
     },
     "execution_count": 79,
     "metadata": {},
     "output_type": "execute_result"
    }
   ],
   "source": [
    "train_data_state=data.describe().T\n",
    "train_data_state"
   ]
  },
  {
   "cell_type": "markdown",
   "metadata": {
    "id": "qNm0ZzGKuqXh"
   },
   "source": [
    "As we see in the basic statistics of dataset, all the columns in different scales, here we normalize data using z-score normalization."
   ]
  },
  {
   "cell_type": "code",
   "execution_count": 80,
   "metadata": {},
   "outputs": [
    {
     "data": {
      "text/plain": [
       "(398,)"
      ]
     },
     "execution_count": 80,
     "metadata": {},
     "output_type": "execute_result"
    }
   ],
   "source": [
    "data['mpg'].shape"
   ]
  },
  {
   "cell_type": "code",
   "execution_count": 81,
   "metadata": {
    "id": "p0bsJeDBTsVn"
   },
   "outputs": [],
   "source": [
    "# Standard scaler for the train_data['mpg']\n",
    "\n",
    "import numpy as np\n",
    "from sklearn.preprocessing import StandardScaler\n",
    "scaler1 = StandardScaler()\n",
    "data['mpg'] = scaler1.fit_transform(np.array(data['mpg']).reshape(-1, 1))"
   ]
  },
  {
   "cell_type": "code",
   "execution_count": 82,
   "metadata": {
    "colab": {
     "base_uri": "https://localhost:8080/",
     "height": 458
    },
    "executionInfo": {
     "elapsed": 15,
     "status": "ok",
     "timestamp": 1725777850054,
     "user": {
      "displayName": "Ahmed Yousry",
      "userId": "15736517196575255940"
     },
     "user_tz": -180
    },
    "id": "0dQDAsqkVBd2",
    "outputId": "2c4118dc-a987-4e5e-ffa0-08e38b83bafa"
   },
   "outputs": [
    {
     "data": {
      "text/plain": [
       "0     -0.706439\n",
       "1     -1.090751\n",
       "2     -0.706439\n",
       "3     -0.962647\n",
       "4     -0.834543\n",
       "         ...   \n",
       "393    0.446497\n",
       "394    2.624265\n",
       "395    1.087017\n",
       "396    0.574601\n",
       "397    0.958913\n",
       "Name: mpg, Length: 398, dtype: float64"
      ]
     },
     "execution_count": 82,
     "metadata": {},
     "output_type": "execute_result"
    }
   ],
   "source": [
    "data['mpg']"
   ]
  },
  {
   "cell_type": "code",
   "execution_count": 83,
   "metadata": {
    "id": "MFgkHx-EUDv-"
   },
   "outputs": [],
   "source": [
    "# prompt: standard scaler for all features except mpg\n",
    "scaler2 = StandardScaler()\n",
    "data[['cylinders', 'displacement', 'horsepower', 'weight',\n",
    "       'acceleration', 'model year', 'uk', 'europe', 'usa']] = scaler2.fit_transform(data[['cylinders', 'displacement', 'horsepower', 'weight',\n",
    "       'acceleration', 'model year', 'uk', 'europe', 'usa']])\n"
   ]
  },
  {
   "cell_type": "code",
   "execution_count": 84,
   "metadata": {
    "id": "-86M0HLbuqXi"
   },
   "outputs": [],
   "source": [
    "y=data['mpg']\n",
    "X=data.drop(columns=['mpg'])"
   ]
  },
  {
   "cell_type": "markdown",
   "metadata": {
    "id": "sbS_LajSVXGG"
   },
   "source": []
  },
  {
   "cell_type": "markdown",
   "metadata": {
    "id": "YTmmXfOpuqXi"
   },
   "source": [
    "Train test split"
   ]
  },
  {
   "cell_type": "code",
   "execution_count": 85,
   "metadata": {
    "id": "C-bU0ITpuqXi"
   },
   "outputs": [],
   "source": [
    "from sklearn.model_selection import train_test_split\n",
    "X_train,X_test,y_train,y_test=train_test_split(X,y, test_size=0.2)"
   ]
  },
  {
   "cell_type": "markdown",
   "metadata": {
    "id": "46ti4WcmuqXi"
   },
   "source": [
    "BUILD THE MODEL-\n",
    "Building of a feed forward neural network with Two hidden layers and one output layer with 16 units in the hidden layers and using relu activation function as the non-linear activation function. Optimizer used in this model is RMSprop which is used in general for the model of regression."
   ]
  },
  {
   "cell_type": "code",
   "execution_count": 86,
   "metadata": {
    "id": "OnUT8M9tuqXi"
   },
   "outputs": [],
   "source": [
    "# linear , swish, relu, gelu, tanh, sigmoid, softmax\n",
    "\n",
    "def build_model():\n",
    "    model=keras.Sequential([layers.Dense(16, activation='relu'),\n",
    "                            layers.Dense(16, activation='relu'),\n",
    "                            layers.Dense(16, activation='relu'),\n",
    "                                                 layers.Dense(1)])\n",
    "\n",
    "    #optimizer=tf.keras.optimizers.RMSprop(0.001)\n",
    "    model.compile(loss='mse', optimizer='adam', metrics=['mae','mse'])\n",
    "    return model"
   ]
  },
  {
   "cell_type": "code",
   "execution_count": 87,
   "metadata": {
    "id": "sTxQgmrWuqXi"
   },
   "outputs": [],
   "source": [
    "model=build_model()"
   ]
  },
  {
   "cell_type": "markdown",
   "metadata": {
    "id": "UU3FBK5SuqXi"
   },
   "source": [
    "Converting the Features and labels of the dataset to numpy array to feed into the network."
   ]
  },
  {
   "cell_type": "code",
   "execution_count": 88,
   "metadata": {
    "colab": {
     "base_uri": "https://localhost:8080/"
    },
    "executionInfo": {
     "elapsed": 37552,
     "status": "ok",
     "timestamp": 1725777887594,
     "user": {
      "displayName": "Ahmed Yousry",
      "userId": "15736517196575255940"
     },
     "user_tz": -180
    },
    "id": "DpHX9mwNNbC_",
    "outputId": "bae749f0-9678-4674-b15b-ba0b1b210ce1",
    "scrolled": true
   },
   "outputs": [
    {
     "name": "stdout",
     "output_type": "stream",
     "text": [
      "Epoch 1/5000\n",
      "\u001b[1m9/9\u001b[0m \u001b[32m━━━━━━━━━━━━━━━━━━━━\u001b[0m\u001b[37m\u001b[0m \u001b[1m3s\u001b[0m 60ms/step - loss: 1.0937 - mae: 0.8559 - mse: 1.0937 - val_loss: 0.7707 - val_mae: 0.7395 - val_mse: 0.7707 - learning_rate: 0.0010\n",
      "Epoch 2/5000\n",
      "\u001b[1m9/9\u001b[0m \u001b[32m━━━━━━━━━━━━━━━━━━━━\u001b[0m\u001b[37m\u001b[0m \u001b[1m0s\u001b[0m 22ms/step - loss: 0.7891 - mae: 0.7259 - mse: 0.7891 - val_loss: 0.5963 - val_mae: 0.6570 - val_mse: 0.5963 - learning_rate: 0.0010\n",
      "Epoch 3/5000\n",
      "\u001b[1m9/9\u001b[0m \u001b[32m━━━━━━━━━━━━━━━━━━━━\u001b[0m\u001b[37m\u001b[0m \u001b[1m0s\u001b[0m 23ms/step - loss: 0.6880 - mae: 0.6715 - mse: 0.6880 - val_loss: 0.4269 - val_mae: 0.5597 - val_mse: 0.4269 - learning_rate: 0.0010\n",
      "Epoch 4/5000\n",
      "\u001b[1m9/9\u001b[0m \u001b[32m━━━━━━━━━━━━━━━━━━━━\u001b[0m\u001b[37m\u001b[0m \u001b[1m0s\u001b[0m 23ms/step - loss: 0.5175 - mae: 0.5680 - mse: 0.5175 - val_loss: 0.2746 - val_mae: 0.4398 - val_mse: 0.2746 - learning_rate: 0.0010\n",
      "Epoch 5/5000\n",
      "\u001b[1m9/9\u001b[0m \u001b[32m━━━━━━━━━━━━━━━━━━━━\u001b[0m\u001b[37m\u001b[0m \u001b[1m0s\u001b[0m 23ms/step - loss: 0.4734 - mae: 0.5413 - mse: 0.4734 - val_loss: 0.1915 - val_mae: 0.3514 - val_mse: 0.1915 - learning_rate: 0.0010\n",
      "Epoch 6/5000\n",
      "\u001b[1m9/9\u001b[0m \u001b[32m━━━━━━━━━━━━━━━━━━━━\u001b[0m\u001b[37m\u001b[0m \u001b[1m0s\u001b[0m 23ms/step - loss: 0.3495 - mae: 0.4513 - mse: 0.3495 - val_loss: 0.1614 - val_mae: 0.2990 - val_mse: 0.1614 - learning_rate: 0.0010\n",
      "Epoch 7/5000\n",
      "\u001b[1m9/9\u001b[0m \u001b[32m━━━━━━━━━━━━━━━━━━━━\u001b[0m\u001b[37m\u001b[0m \u001b[1m0s\u001b[0m 23ms/step - loss: 0.2955 - mae: 0.4144 - mse: 0.2955 - val_loss: 0.1520 - val_mae: 0.2800 - val_mse: 0.1520 - learning_rate: 0.0010\n",
      "Epoch 8/5000\n",
      "\u001b[1m9/9\u001b[0m \u001b[32m━━━━━━━━━━━━━━━━━━━━\u001b[0m\u001b[37m\u001b[0m \u001b[1m0s\u001b[0m 23ms/step - loss: 0.2227 - mae: 0.3462 - mse: 0.2227 - val_loss: 0.1511 - val_mae: 0.2814 - val_mse: 0.1511 - learning_rate: 0.0010\n",
      "Epoch 9/5000\n",
      "\u001b[1m9/9\u001b[0m \u001b[32m━━━━━━━━━━━━━━━━━━━━\u001b[0m\u001b[37m\u001b[0m \u001b[1m0s\u001b[0m 17ms/step - loss: 0.2567 - mae: 0.3694 - mse: 0.2567 - val_loss: 0.1527 - val_mae: 0.2875 - val_mse: 0.1527 - learning_rate: 0.0010\n",
      "Epoch 10/5000\n",
      "\u001b[1m9/9\u001b[0m \u001b[32m━━━━━━━━━━━━━━━━━━━━\u001b[0m\u001b[37m\u001b[0m \u001b[1m0s\u001b[0m 17ms/step - loss: 0.2322 - mae: 0.3595 - mse: 0.2322 - val_loss: 0.1541 - val_mae: 0.2922 - val_mse: 0.1541 - learning_rate: 0.0010\n",
      "Epoch 11/5000\n",
      "\u001b[1m9/9\u001b[0m \u001b[32m━━━━━━━━━━━━━━━━━━━━\u001b[0m\u001b[37m\u001b[0m \u001b[1m0s\u001b[0m 22ms/step - loss: 0.2060 - mae: 0.3437 - mse: 0.2060 - val_loss: 0.1491 - val_mae: 0.2912 - val_mse: 0.1491 - learning_rate: 0.0010\n",
      "Epoch 12/5000\n",
      "\u001b[1m9/9\u001b[0m \u001b[32m━━━━━━━━━━━━━━━━━━━━\u001b[0m\u001b[37m\u001b[0m \u001b[1m0s\u001b[0m 22ms/step - loss: 0.2087 - mae: 0.3307 - mse: 0.2087 - val_loss: 0.1465 - val_mae: 0.2878 - val_mse: 0.1465 - learning_rate: 0.0010\n",
      "Epoch 13/5000\n",
      "\u001b[1m9/9\u001b[0m \u001b[32m━━━━━━━━━━━━━━━━━━━━\u001b[0m\u001b[37m\u001b[0m \u001b[1m0s\u001b[0m 22ms/step - loss: 0.1988 - mae: 0.3376 - mse: 0.1988 - val_loss: 0.1381 - val_mae: 0.2838 - val_mse: 0.1381 - learning_rate: 0.0010\n",
      "Epoch 14/5000\n",
      "\u001b[1m9/9\u001b[0m \u001b[32m━━━━━━━━━━━━━━━━━━━━\u001b[0m\u001b[37m\u001b[0m \u001b[1m0s\u001b[0m 23ms/step - loss: 0.1973 - mae: 0.3275 - mse: 0.1973 - val_loss: 0.1378 - val_mae: 0.2804 - val_mse: 0.1378 - learning_rate: 0.0010\n",
      "Epoch 15/5000\n",
      "\u001b[1m9/9\u001b[0m \u001b[32m━━━━━━━━━━━━━━━━━━━━\u001b[0m\u001b[37m\u001b[0m \u001b[1m0s\u001b[0m 22ms/step - loss: 0.1790 - mae: 0.3057 - mse: 0.1790 - val_loss: 0.1308 - val_mae: 0.2759 - val_mse: 0.1308 - learning_rate: 0.0010\n",
      "Epoch 16/5000\n",
      "\u001b[1m9/9\u001b[0m \u001b[32m━━━━━━━━━━━━━━━━━━━━\u001b[0m\u001b[37m\u001b[0m \u001b[1m0s\u001b[0m 23ms/step - loss: 0.1636 - mae: 0.2916 - mse: 0.1636 - val_loss: 0.1265 - val_mae: 0.2713 - val_mse: 0.1265 - learning_rate: 0.0010\n",
      "Epoch 17/5000\n",
      "\u001b[1m9/9\u001b[0m \u001b[32m━━━━━━━━━━━━━━━━━━━━\u001b[0m\u001b[37m\u001b[0m \u001b[1m0s\u001b[0m 23ms/step - loss: 0.1426 - mae: 0.2768 - mse: 0.1426 - val_loss: 0.1244 - val_mae: 0.2660 - val_mse: 0.1244 - learning_rate: 0.0010\n",
      "Epoch 18/5000\n",
      "\u001b[1m9/9\u001b[0m \u001b[32m━━━━━━━━━━━━━━━━━━━━\u001b[0m\u001b[37m\u001b[0m \u001b[1m0s\u001b[0m 26ms/step - loss: 0.1625 - mae: 0.2909 - mse: 0.1625 - val_loss: 0.1177 - val_mae: 0.2587 - val_mse: 0.1177 - learning_rate: 0.0010\n",
      "Epoch 19/5000\n",
      "\u001b[1m9/9\u001b[0m \u001b[32m━━━━━━━━━━━━━━━━━━━━\u001b[0m\u001b[37m\u001b[0m \u001b[1m0s\u001b[0m 26ms/step - loss: 0.1417 - mae: 0.2797 - mse: 0.1417 - val_loss: 0.1168 - val_mae: 0.2575 - val_mse: 0.1168 - learning_rate: 0.0010\n",
      "Epoch 20/5000\n",
      "\u001b[1m9/9\u001b[0m \u001b[32m━━━━━━━━━━━━━━━━━━━━\u001b[0m\u001b[37m\u001b[0m \u001b[1m0s\u001b[0m 23ms/step - loss: 0.1553 - mae: 0.2877 - mse: 0.1553 - val_loss: 0.1109 - val_mae: 0.2554 - val_mse: 0.1109 - learning_rate: 0.0010\n",
      "Epoch 21/5000\n",
      "\u001b[1m9/9\u001b[0m \u001b[32m━━━━━━━━━━━━━━━━━━━━\u001b[0m\u001b[37m\u001b[0m \u001b[1m0s\u001b[0m 24ms/step - loss: 0.1427 - mae: 0.2843 - mse: 0.1427 - val_loss: 0.1100 - val_mae: 0.2526 - val_mse: 0.1100 - learning_rate: 0.0010\n",
      "Epoch 22/5000\n",
      "\u001b[1m9/9\u001b[0m \u001b[32m━━━━━━━━━━━━━━━━━━━━\u001b[0m\u001b[37m\u001b[0m \u001b[1m0s\u001b[0m 25ms/step - loss: 0.1191 - mae: 0.2628 - mse: 0.1191 - val_loss: 0.1093 - val_mae: 0.2483 - val_mse: 0.1093 - learning_rate: 0.0010\n",
      "Epoch 23/5000\n",
      "\u001b[1m9/9\u001b[0m \u001b[32m━━━━━━━━━━━━━━━━━━━━\u001b[0m\u001b[37m\u001b[0m \u001b[1m0s\u001b[0m 24ms/step - loss: 0.1487 - mae: 0.2781 - mse: 0.1487 - val_loss: 0.1074 - val_mae: 0.2495 - val_mse: 0.1074 - learning_rate: 0.0010\n",
      "Epoch 24/5000\n",
      "\u001b[1m9/9\u001b[0m \u001b[32m━━━━━━━━━━━━━━━━━━━━\u001b[0m\u001b[37m\u001b[0m \u001b[1m0s\u001b[0m 23ms/step - loss: 0.1423 - mae: 0.2718 - mse: 0.1423 - val_loss: 0.1021 - val_mae: 0.2471 - val_mse: 0.1021 - learning_rate: 0.0010\n",
      "Epoch 25/5000\n",
      "\u001b[1m9/9\u001b[0m \u001b[32m━━━━━━━━━━━━━━━━━━━━\u001b[0m\u001b[37m\u001b[0m \u001b[1m0s\u001b[0m 22ms/step - loss: 0.1524 - mae: 0.2818 - mse: 0.1524 - val_loss: 0.1020 - val_mae: 0.2471 - val_mse: 0.1020 - learning_rate: 0.0010\n",
      "Epoch 26/5000\n",
      "\u001b[1m9/9\u001b[0m \u001b[32m━━━━━━━━━━━━━━━━━━━━\u001b[0m\u001b[37m\u001b[0m \u001b[1m0s\u001b[0m 17ms/step - loss: 0.1437 - mae: 0.2829 - mse: 0.1437 - val_loss: 0.1027 - val_mae: 0.2459 - val_mse: 0.1027 - learning_rate: 0.0010\n",
      "Epoch 27/5000\n",
      "\u001b[1m9/9\u001b[0m \u001b[32m━━━━━━━━━━━━━━━━━━━━\u001b[0m\u001b[37m\u001b[0m \u001b[1m0s\u001b[0m 16ms/step - loss: 0.1192 - mae: 0.2563 - mse: 0.1192 - val_loss: 0.1041 - val_mae: 0.2440 - val_mse: 0.1041 - learning_rate: 0.0010\n",
      "Epoch 28/5000\n",
      "\u001b[1m9/9\u001b[0m \u001b[32m━━━━━━━━━━━━━━━━━━━━\u001b[0m\u001b[37m\u001b[0m \u001b[1m0s\u001b[0m 23ms/step - loss: 0.1433 - mae: 0.2691 - mse: 0.1433 - val_loss: 0.0998 - val_mae: 0.2468 - val_mse: 0.0998 - learning_rate: 0.0010\n",
      "Epoch 29/5000\n",
      "\u001b[1m9/9\u001b[0m \u001b[32m━━━━━━━━━━━━━━━━━━━━\u001b[0m\u001b[37m\u001b[0m \u001b[1m0s\u001b[0m 22ms/step - loss: 0.1150 - mae: 0.2540 - mse: 0.1150 - val_loss: 0.0983 - val_mae: 0.2458 - val_mse: 0.0983 - learning_rate: 0.0010\n",
      "Epoch 30/5000\n",
      "\u001b[1m9/9\u001b[0m \u001b[32m━━━━━━━━━━━━━━━━━━━━\u001b[0m\u001b[37m\u001b[0m \u001b[1m0s\u001b[0m 23ms/step - loss: 0.1450 - mae: 0.2695 - mse: 0.1450 - val_loss: 0.0972 - val_mae: 0.2369 - val_mse: 0.0972 - learning_rate: 0.0010\n",
      "Epoch 31/5000\n",
      "\u001b[1m9/9\u001b[0m \u001b[32m━━━━━━━━━━━━━━━━━━━━\u001b[0m\u001b[37m\u001b[0m \u001b[1m0s\u001b[0m 23ms/step - loss: 0.1166 - mae: 0.2504 - mse: 0.1166 - val_loss: 0.0927 - val_mae: 0.2357 - val_mse: 0.0927 - learning_rate: 0.0010\n",
      "Epoch 32/5000\n",
      "\u001b[1m9/9\u001b[0m \u001b[32m━━━━━━━━━━━━━━━━━━━━\u001b[0m\u001b[37m\u001b[0m \u001b[1m0s\u001b[0m 16ms/step - loss: 0.1316 - mae: 0.2558 - mse: 0.1316 - val_loss: 0.0959 - val_mae: 0.2393 - val_mse: 0.0959 - learning_rate: 0.0010\n",
      "Epoch 33/5000\n",
      "\u001b[1m9/9\u001b[0m \u001b[32m━━━━━━━━━━━━━━━━━━━━\u001b[0m\u001b[37m\u001b[0m \u001b[1m0s\u001b[0m 17ms/step - loss: 0.1250 - mae: 0.2647 - mse: 0.1250 - val_loss: 0.0954 - val_mae: 0.2370 - val_mse: 0.0954 - learning_rate: 0.0010\n",
      "Epoch 34/5000\n",
      "\u001b[1m9/9\u001b[0m \u001b[32m━━━━━━━━━━━━━━━━━━━━\u001b[0m\u001b[37m\u001b[0m \u001b[1m0s\u001b[0m 17ms/step - loss: 0.1019 - mae: 0.2362 - mse: 0.1019 - val_loss: 0.0964 - val_mae: 0.2365 - val_mse: 0.0964 - learning_rate: 0.0010\n",
      "Epoch 35/5000\n",
      "\u001b[1m9/9\u001b[0m \u001b[32m━━━━━━━━━━━━━━━━━━━━\u001b[0m\u001b[37m\u001b[0m \u001b[1m0s\u001b[0m 20ms/step - loss: 0.1419 - mae: 0.2630 - mse: 0.1419 - val_loss: 0.0948 - val_mae: 0.2388 - val_mse: 0.0948 - learning_rate: 0.0010\n",
      "Epoch 36/5000\n",
      "\u001b[1m9/9\u001b[0m \u001b[32m━━━━━━━━━━━━━━━━━━━━\u001b[0m\u001b[37m\u001b[0m \u001b[1m0s\u001b[0m 19ms/step - loss: 0.1197 - mae: 0.2392 - mse: 0.1197 - val_loss: 0.0961 - val_mae: 0.2401 - val_mse: 0.0961 - learning_rate: 0.0010\n",
      "Epoch 37/5000\n",
      "\u001b[1m9/9\u001b[0m \u001b[32m━━━━━━━━━━━━━━━━━━━━\u001b[0m\u001b[37m\u001b[0m \u001b[1m0s\u001b[0m 20ms/step - loss: 0.1235 - mae: 0.2628 - mse: 0.1235 - val_loss: 0.0944 - val_mae: 0.2371 - val_mse: 0.0944 - learning_rate: 0.0010\n",
      "Epoch 38/5000\n",
      "\u001b[1m9/9\u001b[0m \u001b[32m━━━━━━━━━━━━━━━━━━━━\u001b[0m\u001b[37m\u001b[0m \u001b[1m0s\u001b[0m 24ms/step - loss: 0.1039 - mae: 0.2406 - mse: 0.1039 - val_loss: 0.0916 - val_mae: 0.2303 - val_mse: 0.0916 - learning_rate: 0.0010\n",
      "Epoch 39/5000\n",
      "\u001b[1m9/9\u001b[0m \u001b[32m━━━━━━━━━━━━━━━━━━━━\u001b[0m\u001b[37m\u001b[0m \u001b[1m0s\u001b[0m 18ms/step - loss: 0.0970 - mae: 0.2338 - mse: 0.0970 - val_loss: 0.0917 - val_mae: 0.2323 - val_mse: 0.0917 - learning_rate: 0.0010\n",
      "Epoch 40/5000\n",
      "\u001b[1m9/9\u001b[0m \u001b[32m━━━━━━━━━━━━━━━━━━━━\u001b[0m\u001b[37m\u001b[0m \u001b[1m0s\u001b[0m 18ms/step - loss: 0.1030 - mae: 0.2414 - mse: 0.1030 - val_loss: 0.0937 - val_mae: 0.2340 - val_mse: 0.0937 - learning_rate: 0.0010\n",
      "Epoch 41/5000\n",
      "\u001b[1m9/9\u001b[0m \u001b[32m━━━━━━━━━━━━━━━━━━━━\u001b[0m\u001b[37m\u001b[0m \u001b[1m0s\u001b[0m 18ms/step - loss: 0.1105 - mae: 0.2493 - mse: 0.1105 - val_loss: 0.0923 - val_mae: 0.2305 - val_mse: 0.0923 - learning_rate: 0.0010\n",
      "Epoch 42/5000\n",
      "\u001b[1m9/9\u001b[0m \u001b[32m━━━━━━━━━━━━━━━━━━━━\u001b[0m\u001b[37m\u001b[0m \u001b[1m0s\u001b[0m 26ms/step - loss: 0.1435 - mae: 0.2645 - mse: 0.1435 - val_loss: 0.0913 - val_mae: 0.2333 - val_mse: 0.0913 - learning_rate: 0.0010\n",
      "Epoch 43/5000\n",
      "\u001b[1m9/9\u001b[0m \u001b[32m━━━━━━━━━━━━━━━━━━━━\u001b[0m\u001b[37m\u001b[0m \u001b[1m0s\u001b[0m 23ms/step - loss: 0.0947 - mae: 0.2260 - mse: 0.0947 - val_loss: 0.0920 - val_mae: 0.2351 - val_mse: 0.0920 - learning_rate: 0.0010\n",
      "Epoch 44/5000\n",
      "\u001b[1m9/9\u001b[0m \u001b[32m━━━━━━━━━━━━━━━━━━━━\u001b[0m\u001b[37m\u001b[0m \u001b[1m0s\u001b[0m 20ms/step - loss: 0.1112 - mae: 0.2436 - mse: 0.1112 - val_loss: 0.0947 - val_mae: 0.2303 - val_mse: 0.0947 - learning_rate: 0.0010\n",
      "Epoch 45/5000\n",
      "\u001b[1m9/9\u001b[0m \u001b[32m━━━━━━━━━━━━━━━━━━━━\u001b[0m\u001b[37m\u001b[0m \u001b[1m0s\u001b[0m 18ms/step - loss: 0.0853 - mae: 0.2112 - mse: 0.0853 - val_loss: 0.0916 - val_mae: 0.2289 - val_mse: 0.0916 - learning_rate: 0.0010\n",
      "Epoch 46/5000\n",
      "\u001b[1m9/9\u001b[0m \u001b[32m━━━━━━━━━━━━━━━━━━━━\u001b[0m\u001b[37m\u001b[0m \u001b[1m0s\u001b[0m 25ms/step - loss: 0.1203 - mae: 0.2528 - mse: 0.1203 - val_loss: 0.0901 - val_mae: 0.2324 - val_mse: 0.0901 - learning_rate: 0.0010\n",
      "Epoch 47/5000\n",
      "\u001b[1m9/9\u001b[0m \u001b[32m━━━━━━━━━━━━━━━━━━━━\u001b[0m\u001b[37m\u001b[0m \u001b[1m0s\u001b[0m 19ms/step - loss: 0.0975 - mae: 0.2310 - mse: 0.0975 - val_loss: 0.0932 - val_mae: 0.2314 - val_mse: 0.0932 - learning_rate: 0.0010\n",
      "Epoch 48/5000\n",
      "\u001b[1m9/9\u001b[0m \u001b[32m━━━━━━━━━━━━━━━━━━━━\u001b[0m\u001b[37m\u001b[0m \u001b[1m0s\u001b[0m 18ms/step - loss: 0.0945 - mae: 0.2318 - mse: 0.0945 - val_loss: 0.0946 - val_mae: 0.2355 - val_mse: 0.0946 - learning_rate: 0.0010\n",
      "Epoch 49/5000\n",
      "\u001b[1m9/9\u001b[0m \u001b[32m━━━━━━━━━━━━━━━━━━━━\u001b[0m\u001b[37m\u001b[0m \u001b[1m0s\u001b[0m 16ms/step - loss: 0.1026 - mae: 0.2337 - mse: 0.1026 - val_loss: 0.0910 - val_mae: 0.2301 - val_mse: 0.0910 - learning_rate: 0.0010\n",
      "Epoch 50/5000\n",
      "\u001b[1m9/9\u001b[0m \u001b[32m━━━━━━━━━━━━━━━━━━━━\u001b[0m\u001b[37m\u001b[0m \u001b[1m0s\u001b[0m 22ms/step - loss: 0.0999 - mae: 0.2328 - mse: 0.0999 - val_loss: 0.0882 - val_mae: 0.2259 - val_mse: 0.0882 - learning_rate: 0.0010\n",
      "Epoch 51/5000\n",
      "\u001b[1m9/9\u001b[0m \u001b[32m━━━━━━━━━━━━━━━━━━━━\u001b[0m\u001b[37m\u001b[0m \u001b[1m0s\u001b[0m 16ms/step - loss: 0.1012 - mae: 0.2273 - mse: 0.1012 - val_loss: 0.0922 - val_mae: 0.2331 - val_mse: 0.0922 - learning_rate: 0.0010\n",
      "Epoch 52/5000\n",
      "\u001b[1m9/9\u001b[0m \u001b[32m━━━━━━━━━━━━━━━━━━━━\u001b[0m\u001b[37m\u001b[0m \u001b[1m0s\u001b[0m 17ms/step - loss: 0.0854 - mae: 0.2144 - mse: 0.0854 - val_loss: 0.0913 - val_mae: 0.2293 - val_mse: 0.0913 - learning_rate: 0.0010\n",
      "Epoch 53/5000\n",
      "\u001b[1m9/9\u001b[0m \u001b[32m━━━━━━━━━━━━━━━━━━━━\u001b[0m\u001b[37m\u001b[0m \u001b[1m0s\u001b[0m 17ms/step - loss: 0.0998 - mae: 0.2261 - mse: 0.0998 - val_loss: 0.0905 - val_mae: 0.2297 - val_mse: 0.0905 - learning_rate: 0.0010\n",
      "Epoch 54/5000\n",
      "\u001b[1m9/9\u001b[0m \u001b[32m━━━━━━━━━━━━━━━━━━━━\u001b[0m\u001b[37m\u001b[0m \u001b[1m0s\u001b[0m 22ms/step - loss: 0.0931 - mae: 0.2278 - mse: 0.0931 - val_loss: 0.0881 - val_mae: 0.2261 - val_mse: 0.0881 - learning_rate: 0.0010\n",
      "Epoch 55/5000\n",
      "\u001b[1m9/9\u001b[0m \u001b[32m━━━━━━━━━━━━━━━━━━━━\u001b[0m\u001b[37m\u001b[0m \u001b[1m0s\u001b[0m 17ms/step - loss: 0.0811 - mae: 0.2107 - mse: 0.0811 - val_loss: 0.0891 - val_mae: 0.2281 - val_mse: 0.0891 - learning_rate: 0.0010\n",
      "Epoch 56/5000\n",
      "\u001b[1m9/9\u001b[0m \u001b[32m━━━━━━━━━━━━━━━━━━━━\u001b[0m\u001b[37m\u001b[0m \u001b[1m0s\u001b[0m 16ms/step - loss: 0.1008 - mae: 0.2354 - mse: 0.1008 - val_loss: 0.0891 - val_mae: 0.2291 - val_mse: 0.0891 - learning_rate: 0.0010\n",
      "Epoch 57/5000\n",
      "\u001b[1m9/9\u001b[0m \u001b[32m━━━━━━━━━━━━━━━━━━━━\u001b[0m\u001b[37m\u001b[0m \u001b[1m0s\u001b[0m 17ms/step - loss: 0.0928 - mae: 0.2208 - mse: 0.0928 - val_loss: 0.0903 - val_mae: 0.2324 - val_mse: 0.0903 - learning_rate: 0.0010\n",
      "Epoch 58/5000\n",
      "\u001b[1m9/9\u001b[0m \u001b[32m━━━━━━━━━━━━━━━━━━━━\u001b[0m\u001b[37m\u001b[0m \u001b[1m0s\u001b[0m 17ms/step - loss: 0.0975 - mae: 0.2303 - mse: 0.0975 - val_loss: 0.0902 - val_mae: 0.2310 - val_mse: 0.0902 - learning_rate: 2.0000e-04\n",
      "Epoch 59/5000\n",
      "\u001b[1m9/9\u001b[0m \u001b[32m━━━━━━━━━━━━━━━━━━━━\u001b[0m\u001b[37m\u001b[0m \u001b[1m0s\u001b[0m 15ms/step - loss: 0.0831 - mae: 0.2159 - mse: 0.0831 - val_loss: 0.0899 - val_mae: 0.2296 - val_mse: 0.0899 - learning_rate: 2.0000e-04\n",
      "Epoch 60/5000\n",
      "\u001b[1m9/9\u001b[0m \u001b[32m━━━━━━━━━━━━━━━━━━━━\u001b[0m\u001b[37m\u001b[0m \u001b[1m0s\u001b[0m 16ms/step - loss: 0.0970 - mae: 0.2312 - mse: 0.0970 - val_loss: 0.0897 - val_mae: 0.2294 - val_mse: 0.0897 - learning_rate: 2.0000e-04\n",
      "Epoch 61/5000\n",
      "\u001b[1m9/9\u001b[0m \u001b[32m━━━━━━━━━━━━━━━━━━━━\u001b[0m\u001b[37m\u001b[0m \u001b[1m0s\u001b[0m 16ms/step - loss: 0.0975 - mae: 0.2209 - mse: 0.0975 - val_loss: 0.0903 - val_mae: 0.2303 - val_mse: 0.0903 - learning_rate: 2.0000e-04\n",
      "Epoch 62/5000\n",
      "\u001b[1m9/9\u001b[0m \u001b[32m━━━━━━━━━━━━━━━━━━━━\u001b[0m\u001b[37m\u001b[0m \u001b[1m0s\u001b[0m 17ms/step - loss: 0.0902 - mae: 0.2222 - mse: 0.0902 - val_loss: 0.0903 - val_mae: 0.2310 - val_mse: 0.0903 - learning_rate: 2.0000e-04\n",
      "Epoch 63/5000\n",
      "\u001b[1m9/9\u001b[0m \u001b[32m━━━━━━━━━━━━━━━━━━━━\u001b[0m\u001b[37m\u001b[0m \u001b[1m0s\u001b[0m 17ms/step - loss: 0.0858 - mae: 0.2227 - mse: 0.0858 - val_loss: 0.0905 - val_mae: 0.2317 - val_mse: 0.0905 - learning_rate: 2.0000e-04\n",
      "Epoch 64/5000\n",
      "\u001b[1m9/9\u001b[0m \u001b[32m━━━━━━━━━━━━━━━━━━━━\u001b[0m\u001b[37m\u001b[0m \u001b[1m0s\u001b[0m 16ms/step - loss: 0.1196 - mae: 0.2445 - mse: 0.1196 - val_loss: 0.0904 - val_mae: 0.2302 - val_mse: 0.0904 - learning_rate: 2.0000e-04\n",
      "Epoch 65/5000\n",
      "\u001b[1m9/9\u001b[0m \u001b[32m━━━━━━━━━━━━━━━━━━━━\u001b[0m\u001b[37m\u001b[0m \u001b[1m0s\u001b[0m 16ms/step - loss: 0.0881 - mae: 0.2283 - mse: 0.0881 - val_loss: 0.0904 - val_mae: 0.2303 - val_mse: 0.0904 - learning_rate: 1.0000e-04\n",
      "Epoch 66/5000\n",
      "\u001b[1m9/9\u001b[0m \u001b[32m━━━━━━━━━━━━━━━━━━━━\u001b[0m\u001b[37m\u001b[0m \u001b[1m0s\u001b[0m 17ms/step - loss: 0.0953 - mae: 0.2282 - mse: 0.0953 - val_loss: 0.0900 - val_mae: 0.2297 - val_mse: 0.0900 - learning_rate: 1.0000e-04\n",
      "Epoch 67/5000\n",
      "\u001b[1m9/9\u001b[0m \u001b[32m━━━━━━━━━━━━━━━━━━━━\u001b[0m\u001b[37m\u001b[0m \u001b[1m0s\u001b[0m 17ms/step - loss: 0.1059 - mae: 0.2269 - mse: 0.1059 - val_loss: 0.0903 - val_mae: 0.2301 - val_mse: 0.0903 - learning_rate: 1.0000e-04\n",
      "Epoch 68/5000\n",
      "\u001b[1m9/9\u001b[0m \u001b[32m━━━━━━━━━━━━━━━━━━━━\u001b[0m\u001b[37m\u001b[0m \u001b[1m0s\u001b[0m 18ms/step - loss: 0.0869 - mae: 0.2172 - mse: 0.0869 - val_loss: 0.0901 - val_mae: 0.2303 - val_mse: 0.0901 - learning_rate: 1.0000e-04\n",
      "Epoch 69/5000\n",
      "\u001b[1m9/9\u001b[0m \u001b[32m━━━━━━━━━━━━━━━━━━━━\u001b[0m\u001b[37m\u001b[0m \u001b[1m0s\u001b[0m 18ms/step - loss: 0.0878 - mae: 0.2225 - mse: 0.0878 - val_loss: 0.0904 - val_mae: 0.2309 - val_mse: 0.0904 - learning_rate: 1.0000e-04\n",
      "Epoch 70/5000\n",
      "\u001b[1m9/9\u001b[0m \u001b[32m━━━━━━━━━━━━━━━━━━━━\u001b[0m\u001b[37m\u001b[0m \u001b[1m0s\u001b[0m 17ms/step - loss: 0.1110 - mae: 0.2448 - mse: 0.1110 - val_loss: 0.0906 - val_mae: 0.2314 - val_mse: 0.0906 - learning_rate: 1.0000e-04\n",
      "Epoch 71/5000\n",
      "\u001b[1m9/9\u001b[0m \u001b[32m━━━━━━━━━━━━━━━━━━━━\u001b[0m\u001b[37m\u001b[0m \u001b[1m0s\u001b[0m 16ms/step - loss: 0.0928 - mae: 0.2294 - mse: 0.0928 - val_loss: 0.0904 - val_mae: 0.2311 - val_mse: 0.0904 - learning_rate: 1.0000e-04\n",
      "Epoch 72/5000\n",
      "\u001b[1m9/9\u001b[0m \u001b[32m━━━━━━━━━━━━━━━━━━━━\u001b[0m\u001b[37m\u001b[0m \u001b[1m0s\u001b[0m 16ms/step - loss: 0.0765 - mae: 0.2063 - mse: 0.0765 - val_loss: 0.0902 - val_mae: 0.2306 - val_mse: 0.0902 - learning_rate: 1.0000e-04\n",
      "Epoch 73/5000\n",
      "\u001b[1m9/9\u001b[0m \u001b[32m━━━━━━━━━━━━━━━━━━━━\u001b[0m\u001b[37m\u001b[0m \u001b[1m0s\u001b[0m 16ms/step - loss: 0.0819 - mae: 0.2068 - mse: 0.0819 - val_loss: 0.0904 - val_mae: 0.2310 - val_mse: 0.0904 - learning_rate: 1.0000e-04\n",
      "Epoch 74/5000\n",
      "\u001b[1m9/9\u001b[0m \u001b[32m━━━━━━━━━━━━━━━━━━━━\u001b[0m\u001b[37m\u001b[0m \u001b[1m0s\u001b[0m 16ms/step - loss: 0.0953 - mae: 0.2257 - mse: 0.0953 - val_loss: 0.0905 - val_mae: 0.2313 - val_mse: 0.0905 - learning_rate: 1.0000e-04\n"
     ]
    }
   ],
   "source": [
    "# prompt: checkpoint early stopping, reduce on plateue, save best model\n",
    "\n",
    "from keras.callbacks import EarlyStopping, ReduceLROnPlateau, ModelCheckpoint\n",
    "\n",
    "# Define callbacks\n",
    "early_stopping = EarlyStopping(monitor='val_loss', patience=20)\n",
    "reduce_lr = ReduceLROnPlateau(monitor='val_loss', factor=0.2, patience=7, min_lr=0.0001)\n",
    "model_checkpoint = ModelCheckpoint('mpg_regressor.keras', monitor='val_loss', save_best_only=True)\n",
    "\n",
    "# Train the model with callbacks'\n",
    "history = model.fit(\n",
    "    X_train,\n",
    "    y_train,\n",
    "    epochs=5000,\n",
    "    validation_split=0.1,\n",
    "    callbacks=[early_stopping, reduce_lr, model_checkpoint], verbose=1\n",
    ")\n"
   ]
  },
  {
   "cell_type": "code",
   "execution_count": 90,
   "metadata": {},
   "outputs": [
    {
     "name": "stdout",
     "output_type": "stream",
     "text": [
      "R^2 Score: 0.8604050886594604\n"
     ]
    }
   ],
   "source": [
    "from sklearn.metrics import r2_score\n",
    "\n",
    "r2 = r2_score(y_test, y_pred)\n",
    "\n",
    "\n",
    "print(f\"R^2 Score: {r2}\")"
   ]
  },
  {
   "cell_type": "code",
   "execution_count": 67,
   "metadata": {
    "scrolled": true
   },
   "outputs": [
    {
     "name": "stdout",
     "output_type": "stream",
     "text": [
      "\u001b[1m3/3\u001b[0m \u001b[32m━━━━━━━━━━━━━━━━━━━━\u001b[0m\u001b[37m\u001b[0m \u001b[1m0s\u001b[0m 18ms/step\n",
      "\u001b[1m3/3\u001b[0m \u001b[32m━━━━━━━━━━━━━━━━━━━━\u001b[0m\u001b[37m\u001b[0m \u001b[1m0s\u001b[0m 22ms/step - loss: 0.1271 - mae: 0.2674 - mse: 0.1271\n",
      "Mean Squared Error: [0.13526681065559387, 0.2744556963443756, 0.13526681065559387]\n",
      "Predicted Sales: [-0.71389234  0.59682053 -0.59643173 -1.1533467   0.33895892  0.20454282\n",
      " -0.5562872  -0.58368635  0.19011582  1.7856432  -0.8840784  -1.2261363\n",
      "  0.61268127 -1.5751022  -1.1285313   1.19575     0.01696308 -0.93614644\n",
      "  0.0747757   1.0953683  -0.09649266 -0.58975214  0.453282    1.4021194\n",
      "  0.7073871  -0.84750926  0.82036805  1.6709008  -0.85165    -0.19875567\n",
      "  0.7790094  -0.08168536  0.6065207  -0.5032519   1.062601    0.19241153\n",
      " -0.7273199   0.95902663 -1.0578133   1.307092   -0.2753525  -0.02753185\n",
      "  0.57746625  0.60578746 -1.3880286  -0.778146    0.5625972  -0.6346196\n",
      "  1.2457168  -1.0855129  -1.0183629   0.58104545 -1.3572973   0.5018784\n",
      " -0.06273404 -1.3946904   1.569041   -0.47588506 -0.14554343  1.3287611\n",
      "  0.19455038 -0.97775686 -0.23196344 -0.06748357 -0.92349124 -1.2218412\n",
      "  0.61513484 -0.2925355  -1.242471    1.7956767   0.8756727   1.2477033\n",
      "  0.00480207  0.79393536 -0.11204849 -0.12813152  1.8194159   1.3636147\n",
      "  1.3042697  -0.8004246 ]\n",
      "Actual Sales: [-1.34695857  0.92048177 -0.38617876 -0.89859466  0.12623713  0.06218515\n",
      " -0.57833473 -0.55271393  0.24153071  1.08701694 -0.77049069 -1.2188546\n",
      "  1.59943284 -1.47506255 -1.02669864  0.83080899  0.06218515 -0.96264665\n",
      " -0.1940228   1.08701694  0.57460104 -0.12997082  0.2927723   1.39446648\n",
      "  0.19028912 -1.09075062  0.57460104  1.35603529 -0.52709314 -0.45023075\n",
      "  0.89486098 -0.32212678  0.44649707 -0.06591883  0.31839309  0.08780594\n",
      " -0.7064387   0.47211786 -0.83454267  1.13825853  0.31839309  0.31839309\n",
      "  0.766757    0.8051882  -1.2188546  -0.83454267  1.2791729  -0.57833473\n",
      "  1.03577535 -1.34695857 -1.34695857  1.08701694 -1.2188546   0.31839309\n",
      "  0.19028912 -1.34695857  1.61224323 -0.7064387   0.06218515  1.13825853\n",
      "  0.83080899 -0.7064387  -0.1940228   0.57460104 -0.96264665 -1.09075062\n",
      "  0.83080899 -0.42460996 -1.2188546   1.72753681  1.34322489  1.3047937\n",
      "  0.31839309  1.72753681 -0.06591883 -0.1940228   0.95891297  1.59943284\n",
      "  2.3040047  -0.45023075]\n"
     ]
    }
   ],
   "source": [
    "y_pred = model.predict(X_test)\n",
    "\n",
    "# Evaluate model performance (on test set)\n",
    "mse = model.evaluate(X_test, y_test)\n",
    "print(f'Mean Squared Error: {mse}')\n",
    "\n",
    "# Print predictions and actual values\n",
    "print(\"Predicted Sales:\", y_pred.flatten())\n",
    "print(\"Actual Sales:\", y_test.values)"
   ]
  },
  {
   "cell_type": "code",
   "execution_count": 89,
   "metadata": {},
   "outputs": [
    {
     "name": "stdout",
     "output_type": "stream",
     "text": [
      "\u001b[1m3/3\u001b[0m \u001b[32m━━━━━━━━━━━━━━━━━━━━\u001b[0m\u001b[37m\u001b[0m \u001b[1m0s\u001b[0m 53ms/step\n",
      "Mean Squared Error: 0.14079612647719278\n",
      "R-squared: 0.8604050886594604\n"
     ]
    }
   ],
   "source": [
    "# Make predictions\n",
    "\n",
    "from sklearn.metrics import mean_squared_error, r2_score\n",
    "y_pred = model.predict(X_test)\n",
    "\n",
    "# Evaluate the model\n",
    "print(\"Mean Squared Error:\", mean_squared_error(y_test, y_pred))\n",
    "print(\"R-squared:\", r2_score(y_test, y_pred))\n"
   ]
  },
  {
   "cell_type": "markdown",
   "metadata": {
    "id": "y_jBdbcfuqXj"
   },
   "source": [
    "Train the model"
   ]
  },
  {
   "cell_type": "code",
   "execution_count": 59,
   "metadata": {
    "colab": {
     "base_uri": "https://localhost:8080/",
     "height": 449
    },
    "executionInfo": {
     "elapsed": 380,
     "status": "ok",
     "timestamp": 1725777887971,
     "user": {
      "displayName": "Ahmed Yousry",
      "userId": "15736517196575255940"
     },
     "user_tz": -180
    },
    "id": "jlNi8cRYNQ2t",
    "outputId": "67657d00-55ba-4322-daa0-66d9c425f811"
   },
   "outputs": [
    {
     "data": {
      "image/png": "[encoded data removed]",
      "text/plain": [
       "<Figure size 640x480 with 1 Axes>"
      ]
     },
     "metadata": {},
     "output_type": "display_data"
    }
   ],
   "source": [
    "# plot the cureve for loss and val loss\n",
    "\n",
    "import matplotlib.pyplot as plt\n",
    "# Plot the loss and val_loss curves\n",
    "plt.plot(history.history['loss'], label='loss')\n",
    "plt.plot(history.history['val_loss'], label='val_loss')\n",
    "plt.xlabel('Epoch')\n",
    "plt.ylabel('Loss')\n",
    "\n",
    "plt.legend()\n",
    "plt.show()\n"
   ]
  },
  {
   "cell_type": "markdown",
   "metadata": {
    "id": "OG0RYU0OuqXj"
   },
   "source": [
    "MAKE PREDICTIONS"
   ]
  },
  {
   "cell_type": "code",
   "execution_count": 91,
   "metadata": {
    "id": "WLwlaUdrPDmf"
   },
   "outputs": [],
   "source": [
    "# load best model\n",
    "\n",
    "from keras.models import load_model\n",
    "\n",
    "# Load the best model\n",
    "model = load_model('mpg_regressor.keras')\n"
   ]
  },
  {
   "cell_type": "code",
   "execution_count": 92,
   "metadata": {},
   "outputs": [
    {
     "data": {
      "text/plain": [
       "array([[44. , 16. , 31. , 18. , 38. , 20.5, 23. , 13. , 22. , 26. ,  9. ,\n",
       "        16. , 20. , 26. , 32. , 27. , 21.5, 20.2, 13. , 18. , 26. , 32. ,\n",
       "        22. , 24.5, 16. , 17. , 14. , 25.8, 43.4, 37. , 32. , 37. , 37. ,\n",
       "        16. , 25. , 13. , 14. , 25. , 24. , 15. , 18. , 24. , 21. , 27. ,\n",
       "        24. , 21. , 23.9, 17. , 17. , 31.5, 24. , 20.6, 31.5, 30. , 28. ,\n",
       "        22. , 46.6, 23. , 16. , 18.5, 27.9, 25. , 25. , 27. , 29. , 13. ,\n",
       "        26. , 18. , 26. , 18. , 27. , 27. , 38. , 13. , 35. , 31. , 29. ,\n",
       "        18. , 14. , 23. ]])"
      ]
     },
     "execution_count": 92,
     "metadata": {},
     "output_type": "execute_result"
    }
   ],
   "source": [
    "scaler1.inverse_transform([y_test])"
   ]
  },
  {
   "cell_type": "code",
   "execution_count": 93,
   "metadata": {
    "colab": {
     "base_uri": "https://localhost:8080/"
    },
    "executionInfo": {
     "elapsed": 329,
     "status": "ok",
     "timestamp": 1725777888609,
     "user": {
      "displayName": "Ahmed Yousry",
      "userId": "15736517196575255940"
     },
     "user_tz": -180
    },
    "id": "-3NuoFqxuqXj",
    "outputId": "527cc937-73df-4c15-ef26-7e2a29baf450"
   },
   "outputs": [
    {
     "name": "stdout",
     "output_type": "stream",
     "text": [
      "\u001b[1m3/3\u001b[0m \u001b[32m━━━━━━━━━━━━━━━━━━━━\u001b[0m\u001b[37m\u001b[0m \u001b[1m0s\u001b[0m 49ms/step\n"
     ]
    },
    {
     "data": {
      "text/plain": [
       "array([[ 2.1586106],\n",
       "       [-1.2061886],\n",
       "       [ 1.0225343],\n",
       "       [-0.5187237],\n",
       "       [ 1.5634463]], dtype=float32)"
      ]
     },
     "execution_count": 93,
     "metadata": {},
     "output_type": "execute_result"
    }
   ],
   "source": [
    "y_pred=model.predict(X_test)\n",
    "y_pred[:5]"
   ]
  },
  {
   "cell_type": "markdown",
   "metadata": {
    "id": "SScZNp7SuqXj"
   },
   "source": [
    "EVALUATE THE MODEL USING MEAN SQUARED ERROR"
   ]
  },
  {
   "cell_type": "code",
   "execution_count": 94,
   "metadata": {
    "colab": {
     "base_uri": "https://localhost:8080/"
    },
    "executionInfo": {
     "elapsed": 1465,
     "status": "ok",
     "timestamp": 1725777890071,
     "user": {
      "displayName": "Ahmed Yousry",
      "userId": "15736517196575255940"
     },
     "user_tz": -180
    },
    "id": "Ow0Dx8uXuqXn",
    "outputId": "7222eb88-571f-4d3d-86d3-71353c60f5c2"
   },
   "outputs": [
    {
     "name": "stdout",
     "output_type": "stream",
     "text": [
      "Testing mean squared error:MPG 0.14369647204875946\n"
     ]
    }
   ],
   "source": [
    "loss,mae,mse=model.evaluate(X_test,y_test,verbose=0)\n",
    "print('Testing mean squared error:MPG', format(mse))"
   ]
  },
  {
   "cell_type": "code",
   "execution_count": 96,
   "metadata": {
    "colab": {
     "base_uri": "https://localhost:8080/"
    },
    "executionInfo": {
     "elapsed": 4,
     "status": "ok",
     "timestamp": 1725777890071,
     "user": {
      "displayName": "Ahmed Yousry",
      "userId": "15736517196575255940"
     },
     "user_tz": -180
    },
    "id": "Zj-r2enJUQTG",
    "outputId": "4f328449-9b52-426e-e3d0-cf8a23093caf"
   },
   "outputs": [
    {
     "name": "stdout",
     "output_type": "stream",
     "text": [
      "[[44.]\n",
      " [16.]\n",
      " [31.]\n",
      " [18.]\n",
      " [38.]]\n",
      "[[40.365032]\n",
      " [14.098873]\n",
      " [31.496637]\n",
      " [19.465332]\n",
      " [35.71908 ]]\n"
     ]
    }
   ],
   "source": [
    "# Reverse transform for the mpg i y_test and test_predictions using scaler1\n",
    "\n",
    "import numpy as np\n",
    "# Reverse transform for mpg in y_test and test_predictions using scaler2\n",
    "y_test_original = scaler1.inverse_transform(np.array(y_test).reshape(-1, 1))\n",
    "test_predictions_original = scaler1.inverse_transform(y_pred)\n",
    "\n",
    "print(y_test_original[:5])\n",
    "print(test_predictions_original[:5])\n"
   ]
  },
  {
   "cell_type": "code",
   "execution_count": null,
   "metadata": {},
   "outputs": [],
   "source": []
  },
  {
   "cell_type": "code",
   "execution_count": null,
   "metadata": {},
   "outputs": [],
   "source": []
  }
 ],
 "metadata": {
  "accelerator": "GPU",
  "colab": {
   "gpuType": "T4",
   "provenance": []
  },
  "kernelspec": {
   "display_name": "Python 3 (ipykernel)",
   "language": "python",
   "name": "python3"
  },
  "language_info": {
   "codemirror_mode": {
    "name": "ipython",
    "version": 3
   },
   "file_extension": ".py",
   "mimetype": "text/x-python",
   "name": "python",
   "nbconvert_exporter": "python",
   "pygments_lexer": "ipython3",
   "version": "3.11.5"
  },
  "papermill": {
   "duration": 50.574792,
   "end_time": "2020-10-19T14:10:35.127801",
   "environment_variables": {},
   "exception": null,
   "input_path": "__notebook__.ipynb",
   "output_path": "__notebook__.ipynb",
   "parameters": {},
   "start_time": "2020-10-19T14:09:44.553009",
   "version": "2.1.0"
  }
 },
 "nbformat": 4,
 "nbformat_minor": 1
}
